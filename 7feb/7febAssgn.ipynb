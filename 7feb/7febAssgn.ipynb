{
 "cells": [
  {
   "cell_type": "code",
   "execution_count": null,
   "metadata": {},
   "outputs": [],
   "source": [
    "password = input(\"Please enter a password: \")\n",
    "\n",
    "def check_password(password):\n",
    "    password_length = len(password)\n",
    "    if password_length != 10:\n",
    "        return \"Invalid Password\"\n",
    "    if sum(char.isdigit() for char in password) < 1:\n",
    "        return \"Invalid Password\"\n",
    "    if sum(char.isupper() for char in password) < 2:\n",
    "        return \"Invalid Password\"\n",
    "    if sum(char.islower() for char in password) < 2:\n",
    "        return \"Invalid Password\"\n",
    "    if sum(char in ['!', '@', '#', '$', '%', '&', '*'] for char in password) < 3:\n",
    "        return \"Invalid Password\"\n",
    "    return \"Valid Password\"\n",
    "\n",
    "result = check_password(password)\n",
    "print(result)"
   ]
  },
  {
   "cell_type": "code",
   "execution_count": null,
   "metadata": {},
   "outputs": [],
   "source": [
    "def starts_with(lst, letter):\n",
    "    return list(filter(lambda x: x.startswith(letter), lst))\n",
    "\n",
    "strings = ['apple', 'banana', 'cherry', 'date', 'elderberry']\n",
    "starts_with_c = starts_with(strings, 'c')\n",
    "print(starts_with_c)\n"
   ]
  },
  {
   "cell_type": "code",
   "execution_count": null,
   "metadata": {},
   "outputs": [],
   "source": [
    "def isnumeric(list1):\n",
    "    return list(filter(lambda x: x.isnumeric(),list1))\n",
    "\n",
    "string1 = ['12Alpha','123','456','hi2','nowme45']\n",
    "num_list = isnumeric(string1)\n",
    "print(num_list)"
   ]
  },
  {
   "cell_type": "code",
   "execution_count": 1,
   "metadata": {},
   "outputs": [
    {
     "name": "stdout",
     "output_type": "stream",
     "text": [
      "Positive numbers are: [1, 2, 3, 4, 5, 6, 0] \n",
      "\n",
      "Negative numbers are: [-1, -2, -3, -4, -5]\n",
      "([1, 2, 3, 4, 5, 6, 0], [-1, -2, -3, -4, -5])\n"
     ]
    }
   ],
   "source": [
    "def sort_signed(lst):\n",
    "    positive_num = list(filter(lambda x: x >= 0, lst))\n",
    "    negative_num = list(filter(lambda x: x < 0, lst))\n",
    "\n",
    "    print(f\"Positive numbers are: {positive_num} \\n\")\n",
    "    print(f\"Negative numbers are: {negative_num}\")\n",
    "\n",
    "    return (positive_num, negative_num)\n",
    "\n",
    "list_user = [1, 2, 3, 4, 5, 6, -1, -2, -3, -4, -5, 0]\n",
    "print(sort_signed(list_user))\n"
   ]
  },
  {
   "cell_type": "code",
   "execution_count": null,
   "metadata": {},
   "outputs": [],
   "source": []
  }
 ],
 "metadata": {
  "kernelspec": {
   "display_name": "Python 3",
   "language": "python",
   "name": "python3"
  },
  "language_info": {
   "codemirror_mode": {
    "name": "ipython",
    "version": 3
   },
   "file_extension": ".py",
   "mimetype": "text/x-python",
   "name": "python",
   "nbconvert_exporter": "python",
   "pygments_lexer": "ipython3",
   "version": "3.11.1"
  },
  "orig_nbformat": 4,
  "vscode": {
   "interpreter": {
    "hash": "8175448cb9053f40d8614a713ca5fe202ae27e624560e299b1229378f7f850ff"
   }
  }
 },
 "nbformat": 4,
 "nbformat_minor": 2
}
