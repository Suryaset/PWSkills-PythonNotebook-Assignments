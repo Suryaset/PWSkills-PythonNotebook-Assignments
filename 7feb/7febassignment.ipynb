{
 "cells": [
  {
   "cell_type": "markdown",
   "id": "fe0e1b41-6832-46fd-a6d8-eb0e5a311695",
   "metadata": {},
   "source": [
    "### Ans 1"
   ]
  },
  {
   "cell_type": "code",
   "execution_count": null,
   "id": "19e5b862-61c7-435d-a239-b94e7ec22812",
   "metadata": {
    "scrolled": true,
    "tags": []
   },
   "outputs": [],
   "source": [
    "def check_password(password):\n",
    "    password_length = len(password)\n",
    "    if password_length != 10:\n",
    "        return \"Invalid Password\"\n",
    "    if sum(char.isdigit() for char in password) < 1:\n",
    "        return \"Invalid Password\"\n",
    "    if sum(char.isupper() for char in password) < 2:\n",
    "        return \"Invalid Password\"\n",
    "    if sum(char.islower() for char in password) < 2:\n",
    "        return \"Invalid Password\"\n",
    "    if sum(char in ['!', '@', '#', '$', '%', '&', '*'] for char in password) < 3:\n",
    "        return \"Invalid Password\"\n",
    "    return \"Valid Password\"\n",
    "check_password(\"PWsk@#%101\")"
   ]
  },
  {
   "cell_type": "markdown",
   "id": "b0df9cbd-3a83-4c0e-8bab-c8a4018f934a",
   "metadata": {},
   "source": [
    "### Ans 2 a Check if the string starts with a particular letter\n"
   ]
  },
  {
   "cell_type": "code",
   "execution_count": null,
   "id": "5618a471-dd30-46aa-81bf-044bc21dff61",
   "metadata": {
    "scrolled": true
   },
   "outputs": [],
   "source": [
    "def starts_with(lst, letter):\n",
    "    return list(filter(lambda x: x.startswith(letter), lst))\n",
    "\n",
    "input_str = input(\"Enter your strings, separated by spaces: \")\n",
    "strings = input_str.split()  # split the input string into a list of strings\n",
    "letter = str(input(\"Ehter the search letter: \"))\n",
    "starts_with_letter = starts_with(strings, letter)\n",
    "print(starts_with_letter)\n",
    "\n"
   ]
  },
  {
   "cell_type": "markdown",
   "id": "4b0c2601-f547-4f2a-8eda-cd5257a5124f",
   "metadata": {},
   "source": [
    "### Ans 2 b Check if the string is numeric"
   ]
  },
  {
   "cell_type": "code",
   "execution_count": null,
   "id": "d56c1894-9340-4664-bccd-31c563e7cea2",
   "metadata": {
    "scrolled": true
   },
   "outputs": [],
   "source": [
    "def isnumeric(list1):\n",
    "    return list(filter(lambda x: x.isnumeric(),list1))\n",
    "\n",
    "string1 = ['12Alpha','123','456','hi2','nowme45']\n",
    "num_list = isnumeric(string1)\n",
    "print(num_list)"
   ]
  },
  {
   "cell_type": "markdown",
   "id": "aaca2b9c-e71f-4f71-9c3b-583ed8bc126b",
   "metadata": {},
   "source": [
    "### Ans 2 c Sort a list of tuples having fruit names and their quantity"
   ]
  },
  {
   "cell_type": "code",
   "execution_count": null,
   "id": "a5d3d912-3b2f-4ee0-b1ff-7f9742bcfaf9",
   "metadata": {
    "scrolled": true
   },
   "outputs": [],
   "source": [
    "fruits = [(\"mango\",99),(\"orange\",80),(\"grapes\",1000)]\n",
    "sorted_fruits = sorted(fruits, key=lambda x: x[1]) \n",
    "# x[1] returns the second element of the tuple, which is the quantity\n",
    "print(sorted_fruits)\n"
   ]
  },
  {
   "cell_type": "markdown",
   "id": "5b326a77-a022-4857-8ef0-2cc8b3001179",
   "metadata": {},
   "source": [
    "### Ans 2 d "
   ]
  },
  {
   "cell_type": "code",
   "execution_count": null,
   "id": "95a2ccd0-33be-4b85-923a-20d968e21bed",
   "metadata": {
    "scrolled": true
   },
   "outputs": [],
   "source": [
    "squares = [x**2 for x in range(1, 11)]\n",
    "print(squares)\n",
    "\n",
    "# squares = list(map(lambda x: x**2, range(1, 11)))\n",
    "# print(squares)"
   ]
  },
  {
   "cell_type": "markdown",
   "id": "eb5d31bf-b22c-46c2-abf3-19092bc4338e",
   "metadata": {},
   "source": [
    "### Ans 2 e Find the cube root of numbers from 1 to 10Y"
   ]
  },
  {
   "cell_type": "code",
   "execution_count": null,
   "id": "d8cfe417-6b3c-4afa-9e45-afcd0024420a",
   "metadata": {
    "scrolled": true
   },
   "outputs": [],
   "source": [
    "# cuberoot = list(map(lambda x: x**(1/3), range(1, 11)))\n",
    "# print(cuberoot)\n",
    "\n",
    "cuberoot = list(map(lambda x: x**(1/3), range(1, 11)))\n",
    "print(cuberoot)\n"
   ]
  },
  {
   "cell_type": "markdown",
   "id": "4d9d3b88-6983-4532-b381-bf645f2e6d2a",
   "metadata": {},
   "source": [
    "### Ans 2 f Check number is even"
   ]
  },
  {
   "cell_type": "code",
   "execution_count": null,
   "id": "93911296-7129-44bf-981b-eb241c8c8cb7",
   "metadata": {
    "scrolled": true
   },
   "outputs": [],
   "source": [
    "def is_even(number):\n",
    "    if number % 2 == 0:\n",
    "        return True\n",
    "    else:\n",
    "        return False\n",
    "    \n",
    "num = int(input(\"Enter number: \"))\n",
    "findeven = is_even(num)\n",
    "print(findeven)"
   ]
  },
  {
   "cell_type": "markdown",
   "id": "9c35561c-7bae-47a2-824d-1bd40c99307b",
   "metadata": {},
   "source": [
    "### Ans 2 g Filter odd numbers from the given list."
   ]
  },
  {
   "cell_type": "code",
   "execution_count": null,
   "id": "db405522-cce9-4138-8d23-30e1ee6bbde2",
   "metadata": {
    "scrolled": true
   },
   "outputs": [],
   "source": [
    "list10 = [1,2,3,4,5,6,7,8,9,10]\n",
    "\n",
    "def isodd(lst):\n",
    "    return list(filter(lambda x:x%2!=0,lst)) \n",
    "oddnum  = isodd(list10)\n",
    "print(oddnum)"
   ]
  },
  {
   "cell_type": "markdown",
   "id": "9da64799-cdb7-4273-a32a-642f7cd059eb",
   "metadata": {},
   "source": [
    "### Ans 2h Sort a list of integers into positive and negative integers lists"
   ]
  },
  {
   "cell_type": "code",
   "execution_count": null,
   "id": "f1809a8b-b647-478e-9d3b-8ca5668fcda2",
   "metadata": {
    "scrolled": true
   },
   "outputs": [],
   "source": [
    "def sort_signed(lst):\n",
    "    positive_num = list(filter(lambda x: x >= 0, lst))\n",
    "    negative_num = list(filter(lambda x: x < 0, lst))\n",
    "\n",
    "    print(f\"Positive numbers are: {positive_num} \\n\")\n",
    "    print(f\"Negative numbers are: {negative_num}\")\n",
    "\n",
    "    return (positive_num, negative_num)\n",
    "\n",
    "list_user = [1, 2, 3, 4, 5, 6, -1, -2, -3, -4, -5, 0]\n",
    "print(sort_signed(list_user))\n"
   ]
  },
  {
   "cell_type": "code",
   "execution_count": null,
   "id": "a95784c5-4778-423c-a6d2-e7acc3fdd291",
   "metadata": {
    "scrolled": true
   },
   "outputs": [],
   "source": []
  }
 ],
 "metadata": {
  "kernelspec": {
   "display_name": "Python 3 (ipykernel)",
   "language": "python",
   "name": "python3"
  },
  "language_info": {
   "codemirror_mode": {
    "name": "ipython",
    "version": 3
   },
   "file_extension": ".py",
   "mimetype": "text/x-python",
   "name": "python",
   "nbconvert_exporter": "python",
   "pygments_lexer": "ipython3",
   "version": "3.10.8"
  }
 },
 "nbformat": 4,
 "nbformat_minor": 5
}
