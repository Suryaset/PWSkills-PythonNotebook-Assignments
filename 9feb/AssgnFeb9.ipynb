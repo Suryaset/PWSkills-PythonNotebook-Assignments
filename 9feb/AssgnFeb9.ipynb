{
 "cells": [
  {
   "cell_type": "markdown",
   "id": "0893cd32-6475-4473-acb1-9d611b791738",
   "metadata": {},
   "source": [
    "### Ans 1"
   ]
  },
  {
   "cell_type": "code",
   "execution_count": null,
   "id": "d00c7c88-ac97-48e5-9965-4b88164c24bd",
   "metadata": {},
   "outputs": [],
   "source": [
    "class Vehicle:\n",
    "    def __init__(self, name_of_vehicle, max_speed, average_of_vehicle):\n",
    "        self.name_of_vehicle = name_of_vehicle\n",
    "        self.max_speed = max_speed\n",
    "        self.average_of_vehicle = average_of_vehicle"
   ]
  },
  {
   "cell_type": "markdown",
   "id": "a597b774-977f-4c17-8321-035fba696105",
   "metadata": {},
   "source": [
    "### Ans 2"
   ]
  },
  {
   "cell_type": "code",
   "execution_count": null,
   "id": "45c51ee2-0568-4fae-8bdd-588d3a54299a",
   "metadata": {},
   "outputs": [],
   "source": [
    "class Car(Vehicle):\n",
    "    def seating_capacity(self, capacity):\n",
    "        return f\"{self.name_of_vehicle} has a seating capacity of {capacity}.\"\n",
    "    \n",
    "my_car = Car(\"Sedan\", 200, 25)\n",
    "print(my_car.seating_capacity(5))\n",
    "# Output: Sedan has a seating capacity of 5."
   ]
  },
  {
   "cell_type": "markdown",
   "id": "bc932861-0e68-48de-9b3f-66359d094b74",
   "metadata": {},
   "source": [
    "### Ans 3\n",
    "Multiple inheritance is a feature in object-oriented programming where a class can inherit attributes and methods from multiple parent classes. This allows a class to inherit the attributes and methods of multiple classes, creating a new class that is a combination of the parent classes.\n",
    "\n",
    "Here's a simple example of multiple inheritance in Python:\n"
   ]
  },
  {
   "cell_type": "code",
   "execution_count": null,
   "id": "65e03a73-afbb-4c0f-9457-a15fcdd54f02",
   "metadata": {},
   "outputs": [],
   "source": [
    "class Parent1:\n",
    "    def method1(self):\n",
    "        print(\"Parent1 method1\")\n",
    "\n",
    "class Parent2:\n",
    "    def method2(self):\n",
    "        print(\"Parent2 method2\")\n",
    "\n",
    "class Child(Parent1, Parent2):\n",
    "    pass\n",
    "\n",
    "c = Child()\n",
    "c.method1()\n",
    "# Output: Parent1 method1\n",
    "c.method2()\n",
    "# Output: Parent2 method2"
   ]
  },
  {
   "cell_type": "markdown",
   "id": "4bfcf700-6bab-423d-9559-3fb40b912b2e",
   "metadata": {},
   "source": [
    "### Ans 4\n",
    "\n",
    "Multiple inheritance is a feature in object-oriented programming where a class can inherit attributes and methods from multiple parent classes. This allows a class to inherit the attributes and methods of multiple classes, creating a new class that is a combination of the parent classes.\n",
    "\n",
    "Here's a simple example of multiple inheritance in Python:"
   ]
  },
  {
   "cell_type": "code",
   "execution_count": null,
   "id": "f823b1fc-e3bc-4341-80d8-bba89de53776",
   "metadata": {},
   "outputs": [],
   "source": [
    "class Parent1:\n",
    "    def method1(self):\n",
    "        print(\"Parent1 method1\")\n",
    "\n",
    "class Parent2:\n",
    "    def method2(self):\n",
    "        print(\"Parent2 method2\")\n",
    "\n",
    "class Child(Parent1, Parent2):\n",
    "    pass\n",
    "\n",
    "c = Child()\n",
    "c.method1()\n",
    "# Output: Parent1 method1\n",
    "c.method2()\n",
    "# Output: Parent2 method2\n"
   ]
  },
  {
   "cell_type": "markdown",
   "id": "5abdd24a-50c3-45e3-bac1-382b4c42b6c5",
   "metadata": {},
   "source": [
    "In this example, the Child class inherits from both the Parent1 and Parent2 classes, \n",
    "and can access the method1 and method2 methods from each parent class.\n"
   ]
  },
  {
   "cell_type": "markdown",
   "id": "d111232b-28f8-40c2-aaf1-c181691d68ce",
   "metadata": {},
   "source": [
    "### Ans 5\n",
    "Method overriding is a feature in object-oriented programming that allows a subclass to provide a different implementation for a method that is already defined in its superclass. The idea behind method overriding is to allow the subclass to inherit the properties and behaviors of the superclass, but also to have the ability to modify the behavior of the inherited methods to better suit the needs of the subclass.\n",
    "\n",
    "Here's a code example to demonstrate method overriding in Python:"
   ]
  },
  {
   "cell_type": "code",
   "execution_count": null,
   "id": "c429f213-c55b-4c88-adfb-f466587e054b",
   "metadata": {},
   "outputs": [],
   "source": [
    "class Animal:\n",
    "    def make_sound(self):\n",
    "        print(\"The animal makes a sound\")\n",
    "\n",
    "class Dog(Animal):\n",
    "    def make_sound(self):\n",
    "        print(\"The dog barks\")\n",
    "\n",
    "class Cat(Animal):\n",
    "    def make_sound(self):\n",
    "        print(\"The cat meows\")\n",
    "\n",
    "dog = Dog()\n",
    "dog.make_sound()\n",
    "# Output: The dog barks\n",
    "\n",
    "cat = Cat()\n",
    "cat.make_sound()\n",
    "# Output: The cat meows\n"
   ]
  },
  {
   "cell_type": "markdown",
   "id": "a6169d38-ef1a-43c4-914a-6dc52d989b54",
   "metadata": {},
   "source": [
    "In this example, the Animal class has a method make_sound that outputs a default message. The Dog and Cat classes inherit from the Animal class and override the make_sound method to provide their own implementations. When the make_sound method is called on instances of Dog and Cat, the overridden method in the respective class is executed."
   ]
  },
  {
   "cell_type": "code",
   "execution_count": null,
   "id": "5414f24b-00ed-49b9-8d40-bc7fb9b9ecf5",
   "metadata": {},
   "outputs": [],
   "source": []
  }
 ],
 "metadata": {
  "kernelspec": {
   "display_name": "Python 3 (ipykernel)",
   "language": "python",
   "name": "python3"
  },
  "language_info": {
   "codemirror_mode": {
    "name": "ipython",
    "version": 3
   },
   "file_extension": ".py",
   "mimetype": "text/x-python",
   "name": "python",
   "nbconvert_exporter": "python",
   "pygments_lexer": "ipython3",
   "version": "3.10.8"
  }
 },
 "nbformat": 4,
 "nbformat_minor": 5
}
