{
 "cells": [
  {
   "attachments": {},
   "cell_type": "markdown",
   "metadata": {},
   "source": [
    "### Ans 1\n",
    "Multiprocessing in Python is a module that allows running multiple processes at the same time on a multi-core CPU. It's useful because it can speed up computationally intensive tasks and improve the performance of I/O-bound tasks. \n",
    "Multiprocessing is commonly used in scientific computing, data analysis, machine learning, and web scraping applications. Overall, multiprocessing makes Python programs more efficient and scalable."
   ]
  },
  {
   "attachments": {},
   "cell_type": "markdown",
   "metadata": {},
   "source": [
    "### Ans 2"
   ]
  },
  {
   "attachments": {},
   "cell_type": "markdown",
   "metadata": {},
   "source": [
    "Multiprocessing executes multiple independent processes with their own memory space and resources, while multithreading executes multiple threads within a single process that share the same memory space and resources. Multiprocessing fully utilizes multiple CPU cores, while multithreading is limited by the number of CPU cores. Multiprocessing has higher overhead and more complex communication compared to multithreading. Multiprocessing is suitable for computationally intensive tasks, while multithreading is suitable for I/O-bound tasks. The choice of technique depends on the task and available resources."
   ]
  },
  {
   "attachments": {},
   "cell_type": "markdown",
   "metadata": {},
   "source": [
    "### Ans3"
   ]
  },
  {
   "cell_type": "code",
   "execution_count": null,
   "metadata": {},
   "outputs": [],
   "source": [
    " \n",
    "import multiprocessing\n",
    "import time\n",
    "\n",
    "def worker():\n",
    "    \"\"\"Worker function for the process\"\"\"\n",
    "    print(\"Worker process executing...\")\n",
    "    time.sleep(1)\n",
    "    print(\"Worker process done.\")\n",
    "\n",
    "if __name__ == '__main__':\n",
    "    # Create a new process\n",
    "    process = multiprocessing.Process(target=worker)\n",
    "\n",
    "    # Start the process\n",
    "    process.start()\n",
    "\n",
    "    # Wait for the process to finish\n",
    "    process.join()\n",
    "\n",
    "    print(\"Main process exiting...\")\n"
   ]
  },
  {
   "attachments": {},
   "cell_type": "markdown",
   "metadata": {},
   "source": [
    "This code defines a worker function that will be executed by the new process. The multiprocessing.Process class is used to create the new process, passing in the target parameter with the worker function. The start() method is then called on the process object to start the execution of the worker function in the new process. Finally, the join() method is called to wait for the process to finish executing before the main process can continue."
   ]
  },
  {
   "attachments": {},
   "cell_type": "markdown",
   "metadata": {},
   "source": [
    "### Ans 4"
   ]
  },
  {
   "attachments": {},
   "cell_type": "markdown",
   "metadata": {},
   "source": [
    " A multiprocessing pool is a Python object that enables parallel processing of multiple tasks by creating a pool of worker processes. It is used to speed up the processing time of computationally intensive tasks by dividing a large task into smaller subtasks and processing them in parallel across multiple processes. The multiprocessing.Pool class in Python's multiprocessing module provides a simple interface for parallel processing. Using a pool of worker processes can result in faster execution time, efficient resource utilization, and simplified code. The pool can be created with multiprocessing.Pool(), tasks can be submitted with map(), and the pool can be closed with close() and join()."
   ]
  },
  {
   "attachments": {},
   "cell_type": "markdown",
   "metadata": {},
   "source": [
    "### Ans 5\n",
    "\n",
    "The multiprocessing.Pool class in Python's multiprocessing module provides a simple interface for parallel processing. Using a pool of worker processes can result in faster execution time, efficient resource utilization, and simplified code. The pool can be created with multiprocessing.Pool(), tasks can be submitted with map(), and the pool can be closed with close() and join()."
   ]
  },
  {
   "attachments": {},
   "cell_type": "markdown",
   "metadata": {},
   "source": [
    "\n",
    "### Ans 6\n",
    "\n"
   ]
  },
  {
   "cell_type": "code",
   "execution_count": null,
   "metadata": {},
   "outputs": [],
   "source": [
    "import multiprocessing\n",
    "\n",
    "def print_number(num):\n",
    "    \"\"\"Function to print a number\"\"\"\n",
    "    print(\"Process\", num, \"printing number\", num)\n",
    "\n",
    "if __name__ == '__main__':\n",
    "    # Create 4 processes\n",
    "    processes = []\n",
    "    for i in range(1, 5):\n",
    "        p = multiprocessing.Process(target=print_number, args=(i,))\n",
    "        processes.append(p)\n",
    "        p.start()\n",
    "\n",
    "    # Wait for all processes to complete\n",
    "    for p in processes:\n",
    "        p.join()\n",
    "\n",
    "    print(\"Main process exiting...\")"
   ]
  },
  {
   "cell_type": "code",
   "execution_count": null,
   "metadata": {},
   "outputs": [],
   "source": []
  }
 ],
 "metadata": {
  "kernelspec": {
   "display_name": "Python 3",
   "language": "python",
   "name": "python3"
  },
  "language_info": {
   "codemirror_mode": {
    "name": "ipython",
    "version": 3
   },
   "file_extension": ".py",
   "mimetype": "text/x-python",
   "name": "python",
   "nbconvert_exporter": "python",
   "pygments_lexer": "ipython3",
   "version": "3.11.1"
  },
  "orig_nbformat": 4,
  "vscode": {
   "interpreter": {
    "hash": "8175448cb9053f40d8614a713ca5fe202ae27e624560e299b1229378f7f850ff"
   }
  }
 },
 "nbformat": 4,
 "nbformat_minor": 2
}
