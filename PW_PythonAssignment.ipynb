{
 "cells": [
  {
   "attachments": {},
   "cell_type": "markdown",
   "metadata": {},
   "source": [
    "# Ans 1  Charesteristics of Tuples in Python\n",
    "\n",
    "Tuple items are ordered, unchangeable, and allow duplicate values.\n",
    "\n",
    "Tuple items are indexed, the first item has index [0], the second item has index [1] etc.\n",
    "\n",
    "### Ordered\n",
    "When we say that tuples are ordered, it means that the items have a defined order, and that order will not change.\n",
    "\n",
    "### Unchangeable\n",
    "Tuples are unchangeable, meaning that we cannot change, add or remove items after the tuple has been created.\n",
    "\n",
    "### Allow Duplicates\n",
    "Since tuples are indexed, they can have items with the same value\n",
    "\n",
    "Tuples are immutable and hence cannot have any changes in them once they are created in Python. This is because they support the same sequence operations as strings."
   ]
  },
  {
   "attachments": {},
   "cell_type": "markdown",
   "metadata": {},
   "source": [
    "# Ans 2 The built-in methods for Tuples\n",
    "\n",
    "The two built-in tuple methods in Python are:\n",
    "\n",
    "**count -** returns the number of occurrences of a specific element in the tuple\n",
    "\n",
    "Example:\n",
    "t = (1, 2, 3, 2)\n",
    "\n",
    "print(t.count(2)) \n",
    "\n",
    "#Output: 2\n",
    "\n",
    "**index -** returns the index of the first occurrence of a specific element in the tuple\n",
    "\n",
    "Example:\n",
    "t = (1, 2, 3, 2)\n",
    "\n",
    "print(t.index(2)) \n",
    "\n",
    "#Output: 1\n",
    "\n",
    "Tuples have only two built-in methods as compared to lists because tuples are immutable, meaning their elements cannot be modified. This is in contrast to lists, which are mutable and therefore have more built-in methods for modifying their contents. The count and index methods are sufficient for retrieving information from a tuple, but other methods for modifying tuples are not needed because tuples cannot be modified."
   ]
  },
  {
   "cell_type": "markdown",
   "metadata": {},
   "source": []
  },
  {
   "attachments": {},
   "cell_type": "markdown",
   "metadata": {},
   "source": [
    "# Ans 3 Data Collection types that does not allow duplicate items\n",
    "A set is an unordered collection data type that is mutable and does not allow duplicate items.\n",
    "Code using set to remove duplicates from the given list.\n",
    "\n",
    "List = [1, 1, 1, 2, 1, 3, 1, 4, 2, 1, 2, 2, 2, 3, 2, 4, 3, 1, 3, 2, 3, 3, 3, 4, 4, 1, 4, 2, 4, 3, 4, 4]\n",
    "unique_list = list(set(List))\n",
    "print(unique_list)"
   ]
  },
  {
   "attachments": {},
   "cell_type": "markdown",
   "metadata": {},
   "source": [
    "# Ans 4 Union and Update methods for a Set\n",
    "\n",
    "The union and update methods are two different ways to merge two sets in Python.\n",
    "\n",
    "union method returns a new set that contains all the elements from both sets, but the original sets are not modified. Example:\n",
    "\n",
    "s1 = {1, 2, 3}\n",
    "\n",
    "s2 = {3, 4, 5}\n",
    "\n",
    "s3 = s1.union(s2)\n",
    "\n",
    "print(s3) \n",
    "\n",
    "#Output:{1, 2, 3, 4, 5}\n",
    "\n",
    "print(s1)\n",
    "\n",
    "#Output:{1, 2, 3}\n",
    "\n",
    "print(s2) \n",
    "\n",
    "#Output:{3, 4, 5}\n",
    "\n",
    "update method adds all the elements from one set to another set and returns None. The original set is modified and the new elements are added to the set. Example:\n",
    "\n",
    "s1 = {1, 2, 3}\n",
    "\n",
    "s2 = {3, 4, 5}\n",
    "\n",
    "s1.update(s2)\n",
    "\n",
    "print(s1) \n",
    "\n",
    "#Output: {1, 2, 3, 4, 5}\n",
    "\n",
    "print(s2) \n",
    "\n",
    "#Output: {3, 4, 5}\n",
    "\n",
    "In summary, union method returns a new set that is the combination of two sets, while update method modifies the original set by adding the elements from another set to it.\n",
    "\n",
    "\n",
    "\n",
    "\n",
    "\n"
   ]
  },
  {
   "attachments": {},
   "cell_type": "markdown",
   "metadata": {},
   "source": [
    "# Ans 5 Dictionary with Examples\n",
    "A dictionary is a data structure that stores values in key-value pairs. An example of a dictionary in Python would be:\n",
    "\n",
    "person = {'name': 'John Doe', 'age': 30, 'country': 'United States'}\n",
    "In this example, 'name', 'age', and 'country' are the keys and 'John Doe', 30, and 'United States' are the values.\n",
    "\n",
    "In most programming languages, dictionaries are unordered, meaning that the elements are stored and retrieved in no particular order."
   ]
  },
  {
   "attachments": {},
   "cell_type": "markdown",
   "metadata": {},
   "source": [
    "# Ans 6 Dictionary and nested Dictionary\n",
    "Yes, dictionaries can be nested in many programming languages, including Python. Here is an example of a one-level nested dictionary:\n",
    "\n",
    "\n",
    "indian_cities = {\n",
    "  'Mumbai': {\n",
    "\n",
    "    'state': 'Maharashtra',\n",
    "\n",
    "    'famous_for': 'Bollywood'\n",
    "\n",
    "  },\n",
    "\n",
    "  'Delhi': {\n",
    "\n",
    "    'state': 'Delhi',\n",
    "\n",
    "    'famous_for': 'Historical monuments and street food'\n",
    "\n",
    "  }\n",
    "  \n",
    "}\n",
    "In this example, the outer dictionary indian_cities has two keys, 'Mumbai' and 'Delhi', which map to inner dictionaries that contain information about each city's state, and what it is famous for."
   ]
  },
  {
   "attachments": {},
   "cell_type": "markdown",
   "metadata": {},
   "source": [
    "# Ans 7 setdefault() method\n",
    "We can use the setdefault() method to create the key 'topics' in the dictionary dict1 and add the value of the key as a list ['Python', 'Machine Learning', 'Deep Learning']. Here's an example:\n",
    "\n",
    "\n",
    "dict1 = {'language' : 'Python', 'course': 'Data Science Masters'}\n",
    "dict1.setdefault('topics', []).extend(['Python', 'Machine Learning', 'Deep Learning'])\n",
    "print(dict1)\n",
    "Output:\n",
    "\n",
    "\n",
    "{'language': 'Python', 'course': 'Data Science Masters', 'topics': ['Python', 'Machine Learning', 'Deep Learning']}\n",
    "\n",
    "The setdefault() method creates the key 'topics' in the dictionary dict1 if it does not already exist and sets its value to an empty list []. The extend() method is then used to add the values ['Python', 'Machine Learning', 'Deep Learning'] to the list."
   ]
  },
  {
   "attachments": {},
   "cell_type": "markdown",
   "metadata": {},
   "source": [
    "# Ans 8 Three view objects in Dictionary\n",
    "In dictionaries, there are three view objects: keys, values, and items.\n",
    "\n",
    "To display these three view objects for the dictionary dict1, we can use the following in-built methods in Python:\n",
    "\n",
    "dict1.keys() to display the keys of the dictionary\n",
    "dict1.values() to display the values of the dictionary\n",
    "dict1.items() to display both the keys and the values of the dictionary as a list of tuples.\n",
    "\n",
    "Here's an example of how to use these methods for the given dictionary dict1:\n",
    "\n",
    "dict1 = {'Sport': 'Cricket' , 'Teams': ['India', 'Australia', 'England', 'South Africa', 'Sri Lanka', 'New Zealand']}\n",
    "\n",
    "print(\"The keys in the dictionary: \", dict1.keys())\n",
    "print(\"The values in the dictionary: \", dict1.values())\n",
    "print(\"The items in the dictionary: \", dict1.items())\n",
    "\n",
    "Output:\n",
    "\n",
    "The keys in the dictionary:  dict_keys(['Sport', 'Teams'])\n",
    "The values in the dictionary:  dict_values(['Cricket', ['India', 'Australia', 'England', 'South Africa', 'Sri Lanka', 'New Zealand']])\n",
    "The items in the dictionary:  dict_items([('Sport', 'Cricket'), ('Teams', ['India', 'Australia', 'England', 'South Africa', 'Sri Lanka', 'New Zealand'])])"
   ]
  },
  {
   "cell_type": "markdown",
   "metadata": {},
   "source": []
  }
 ],
 "metadata": {
  "kernelspec": {
   "display_name": "Python 3",
   "language": "python",
   "name": "python3"
  },
  "language_info": {
   "name": "python",
   "version": "3.11.1"
  },
  "orig_nbformat": 4,
  "vscode": {
   "interpreter": {
    "hash": "8175448cb9053f40d8614a713ca5fe202ae27e624560e299b1229378f7f850ff"
   }
  }
 },
 "nbformat": 4,
 "nbformat_minor": 2
}
