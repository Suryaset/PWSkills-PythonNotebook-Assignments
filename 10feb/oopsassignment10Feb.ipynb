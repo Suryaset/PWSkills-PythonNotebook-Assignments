{
 "cells": [
  {
   "cell_type": "code",
   "execution_count": null,
   "metadata": {},
   "outputs": [],
   "source": []
  },
  {
   "attachments": {},
   "cell_type": "markdown",
   "metadata": {},
   "source": [
    "### Ans 1 open file function and its modes.\n",
    "\n",
    "In Python, the built-in open() function is used to open a file. The open() function returns a file object, which provides methods and attributes for working with the file.\n",
    "\n",
    "The open() function takes two arguments:\n",
    "\n",
    "The file path: a string containing the path of the file that you want to open.\n",
    "\n",
    "The mode: a string indicating the mode in which you want to open the file.\n",
    "There are different modes of opening a file in Python. \n",
    "The most common modes are:\n",
    "\n",
    "r (read): opens a file for reading (default mode)\n",
    "\n",
    "w (write): opens a file for writing, truncating the file first\n",
    "\n",
    "x (exclusive creation): opens a file for exclusive creation, failing if the file already exists\n",
    "\n",
    "a (append): opens a file for writing in append mode, meaning that new data is written to the end of the file\n",
    "\n",
    "b (binary mode): opens a file in binary mode, which is used for non-text files (e.g., image or audio files)\n",
    "\n",
    "t (text mode): opens a file in text mode, which is used for text files (default mode)\n",
    "\n",
    "You can combine these modes by using them together as a string. For example:\n",
    "\n",
    "rb opens a file for reading in binary mode\n",
    "wt opens a file for writing in text mode\n",
    "\n",
    "Here's a brief explanation of each mode:\n",
    "\n",
    "r (read): this mode allows you to read the contents of the file. If the file doesn't exist, it will raise an error.\n",
    "\n",
    "w (write): this mode allows you to write data to the file. If the file already exists, it will be truncated to zero length. If the file doesn't exist, it will be created.\n",
    "\n",
    "x (exclusive creation): this mode allows you to create a new file, but only if it doesn't already exist. If the file already exists, it will raise an error.\n",
    "\n",
    "a (append): this mode allows you to write data to the end of the file, without truncating it. If the file doesn't exist, it will be created.\n",
    "\n",
    "b (binary mode): this mode opens the file in binary mode, which is used for non-text files like images or audio files.\n",
    "\n",
    "t (text mode): this mode opens the file in text mode, which is used for text files."
   ]
  },
  {
   "attachments": {},
   "cell_type": "markdown",
   "metadata": {},
   "source": [
    "### Ans 2 Close function in File Handling. Its Significance\n",
    "The close() function is used to close an open file. When you're finished working with a file, you should always close it to free up system resources and to ensure that all data is written to the file.\n",
    "\n",
    "Closing a file is important for several reasons:\n",
    "\n",
    "Freeing up system resources: When you open a file, the operating system allocates resources to that file, including memory and disk space. If you don't close the file, those resources may remain allocated, which can lead to performance problems and even system crashes.\n",
    "\n",
    "Writing data to the file: When you write data to a file, it's usually buffered in memory until the buffer is full or until you close the file. If you don't close the file, the data may not be written to the file, which can result in lost or incomplete data.\n",
    "\n",
    "Preventing data corruption: If you open a file for writing and then try to read from it without closing it first, you may get unexpected results or even corrupt the data in the file.\n",
    "\n",
    "Avoiding errors: Some operating systems have limits on the number of files that can be open at the same time. If you don't close files when you're finished with them, you may run into these limits and get errors when trying to open new files.\n",
    "\n",
    "In summary, it's important to close files to avoid potential problems with system resources, data loss or corruption, and errors. To close a file in Python, you simply call the close() method on the file object, like this:\n",
    "\n",
    "\n",
    "f = open(\"myfile.txt\", \"r\")\n",
    "\n",
    "#do some work with the file\n",
    "\n",
    "f.close()"
   ]
  },
  {
   "attachments": {},
   "cell_type": "markdown",
   "metadata": {},
   "source": [
    "### Ans 3\n",
    "Here's a Python program that creates a text file, writes a string to it, closes the file, and then reads the contents of the file:"
   ]
  },
  {
   "cell_type": "code",
   "execution_count": 1,
   "metadata": {},
   "outputs": [
    {
     "name": "stdout",
     "output_type": "stream",
     "text": [
      "I want to become a Data Scientist\n"
     ]
    }
   ],
   "source": [
    "# Open a file for writing\n",
    "file = open(\"my_file.txt\", \"w\")\n",
    "\n",
    "# Write a string to the file\n",
    "file.write(\"I want to become a Data Scientist\")\n",
    "\n",
    "# Close the file\n",
    "file.close()\n",
    "\n",
    "# Open the file for reading\n",
    "file = open(\"my_file.txt\", \"r\")\n",
    "\n",
    "# Read the contents of the file\n",
    "content = file.read()\n",
    "\n",
    "# Close the file\n",
    "file.close()\n",
    "\n",
    "# Print the contents of the file\n",
    "print(content)\n"
   ]
  },
  {
   "attachments": {},
   "cell_type": "markdown",
   "metadata": {},
   "source": [
    "### Ans 4 read() readline() readlines() to READ files.\n",
    "\n",
    "In Python, there are several ways to read the contents of a file. Here are some examples using the read(), readline(), and readlines() methods:\n",
    "\n",
    "read(): This method reads the entire contents of a file into a string.\n",
    "Example:\n",
    "\n",
    "with open(\"my_file.txt\", \"r\") as file:\n",
    "\n",
    "    contents = file.read()\n",
    "\n",
    "    print(contents)\n",
    "\n",
    "In this example, the open() function is used to open the file in read mode, and then the read() method is used to read the contents of the file into a string called contents. Finally, the print() function is used to print the contents of the file to the console.\n",
    "\n",
    "readline(): This method reads one line at a time from a file.\n",
    "Example:\n",
    "\n",
    "with open(\"my_file.txt\", \"r\") as file:\n",
    "\n",
    "    line1 = file.readline()\n",
    "\n",
    "    line2 = file.readline()\n",
    "\n",
    "    print(line1)\n",
    "\n",
    "    print(line2)\n",
    "\n",
    "In this example, the open() function is used to open the file in read mode, and then the readline() method is used twice to read the first two lines of the file into the variables line1 and line2. Finally, the print() function is used to print the contents of each line to the console.\n",
    "\n",
    "readlines(): This method reads all the lines of a file into a list of strings.\n",
    "Example:\n",
    "\n",
    "with open(\"my_file.txt\", \"r\") as file:\n",
    "\n",
    "    lines = file.readlines()\n",
    "\n",
    "    print(lines)\n",
    "    \n",
    "In this example, the open() function is used to open the file in read mode, and then the readlines() method is used to read all the lines of the file into a list called lines. Finally, the print() function is used to print the list of lines to the console.\n",
    "\n",
    "Note that in all these examples, we're using a with statement to automatically close the file when we're done with it. This is considered good practice to avoid leaving files open unnecessarily, especially if your program is handling multiple files."
   ]
  },
  {
   "attachments": {},
   "cell_type": "markdown",
   "metadata": {},
   "source": [
    "### Ans 5\n",
    "\n",
    "In Python, the with statement is used in conjunction with the open() function to automatically close files after they have been opened. This ensures that the file is properly closed and any resources associated with the file are released, even if an error occurs while the file is being read or written."
   ]
  },
  {
   "attachments": {},
   "cell_type": "markdown",
   "metadata": {},
   "source": [
    "### Ans 6\n",
    "\n",
    "In Python, the write() and writelines() functions are used to write data to a file.\n",
    "\n",
    "write() - This function is used to write a single string to a file. The syntax for using write() is as follows:\n",
    "\n",
    "with open(\"filename.txt\", \"w\") as file:\n",
    "\n",
    "    file.write(\"Hello, world!\")\n",
    "\n",
    "In this example, the open() function is used to open the file filename.txt in write mode, and the write() function is used to write the string \"Hello, world!\" to the file. If the file already exists, the write() function will overwrite its contents.\n",
    "\n",
    "writelines() - This function is used to write a list of strings to a file. The syntax for using writelines() is as follows:\n",
    "\n",
    "with open(\"filename.txt\", \"w\") as file:\n",
    "\n",
    "    lines = [\"Line 1\\n\", \"Line 2\\n\", \"Line 3\\n\"]\n",
    "\n",
    "    file.writelines(lines)\n",
    "    \n",
    "In this example, the open() function is used to open the file filename.txt in write mode, and the writelines() function is used to write the list of strings lines to the file. Each string is written as a separate line, as specified by the \\n character at the end of each string."
   ]
  },
  {
   "cell_type": "markdown",
   "metadata": {},
   "source": []
  }
 ],
 "metadata": {
  "kernelspec": {
   "display_name": "Python 3",
   "language": "python",
   "name": "python3"
  },
  "language_info": {
   "codemirror_mode": {
    "name": "ipython",
    "version": 3
   },
   "file_extension": ".py",
   "mimetype": "text/x-python",
   "name": "python",
   "nbconvert_exporter": "python",
   "pygments_lexer": "ipython3",
   "version": "3.11.1"
  },
  "orig_nbformat": 4,
  "vscode": {
   "interpreter": {
    "hash": "8175448cb9053f40d8614a713ca5fe202ae27e624560e299b1229378f7f850ff"
   }
  }
 },
 "nbformat": 4,
 "nbformat_minor": 2
}
