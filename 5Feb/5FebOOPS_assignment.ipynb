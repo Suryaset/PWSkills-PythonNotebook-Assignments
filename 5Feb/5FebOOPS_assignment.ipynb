{
 "cells": [
  {
   "attachments": {},
   "cell_type": "markdown",
   "metadata": {},
   "source": [
    "## Ans 1\n",
    "A Class can be defined as a blueprint or template for creating objects. It describes the attributes and behaviors that objects of the class will have. For example, you can define a class \"Person\" that has attributes such as name, age, and address, and methods like talk and walk. The objects created from this class will have the same attributes and behaviors.\n",
    "\n",
    "An Object, on the other hand, is an instance of a class. It is a real-world entity that has the attributes and behaviors defined in the class. Here's a simple example: "
   ]
  },
  {
   "cell_type": "code",
   "execution_count": null,
   "metadata": {},
   "outputs": [],
   "source": [
    "class Person:\n",
    "    def __init__(self, name, age):\n",
    "        self.name = name\n",
    "        self.age = age\n",
    "\n",
    "    def talk(self):\n",
    "        print(f\"Namaste, my name is {self.name}\")\n",
    "\n",
    "# Creating objects of the Person class\n",
    "person1 = Person(\"Suryakant\", 38)\n",
    "person2 = Person(\"Priya\", 25)\n",
    "\n",
    "# Calling the talk method on the objects\n",
    "person1.talk() # Output: Namaste, my name is Suryakant\n",
    "person2.talk() # Output: Namaste, my name is Priya"
   ]
  },
  {
   "attachments": {},
   "cell_type": "markdown",
   "metadata": {},
   "source": [
    "## Ans 2\n",
    "The four pillars of Object-Oriented Programming (OOP) are:\n",
    "\n",
    "Abstraction: Hiding the implementation details and exposing only the necessary information to the user. This helps in creating a clear separation between the code and the user and enables the user to focus on the functionality rather than the code.\n",
    "\n",
    "Encapsulation: Wrapping data and functions within an object, making it self-contained and protected from outside access or modification. This promotes modularity and improves the security and reliability of the code.\n",
    "\n",
    "Inheritance: Allowing classes to inherit attributes and behaviors from a parent class, enabling code reuse and reducing the need for repetitive code.\n",
    "\n",
    "Polymorphism: The ability of objects of different classes to be treated as objects of a common class. This allows for the creation of generic functions that can be used with objects of multiple classes, making the code more flexible and adaptable.\n",
    "\n",
    "Together, these four pillars provide a powerful framework for designing and implementing software in an object-oriented way."
   ]
  },
  {
   "attachments": {},
   "cell_type": "markdown",
   "metadata": {},
   "source": [
    "## Ans 3\n",
    "The __init__ method, also known as the constructor, is a special method in Python classes that is automatically called when an object of the class is created. It is used to initialize the attributes of the object with default or user-defined values.\n",
    "\n",
    "The syntax for the __init__ method is:\n",
    "\n",
    "def __init__(self, [arguments]):\n",
    "    [initialization code]\n",
    "where self is a reference to the newly created object, and [arguments] are the parameters that can be passed when creating an object of the class.\n",
    "\n",
    "Here's a simple example to demonstrate the use of the __init__ method:\n"
   ]
  },
  {
   "cell_type": "code",
   "execution_count": null,
   "metadata": {},
   "outputs": [],
   "source": [
    "class Car:\n",
    "    def __init__(self, make, model, year):\n",
    "        self.make = make\n",
    "        self.model = model\n",
    "        self.year = year\n",
    "\n",
    "# Creating an object of the Car class\n",
    "my_car = Car(\"Toyota\", \"Camry\", 2020)\n",
    "\n",
    "# Accessing the attributes of the object\n",
    "print(my_car.make) # Output: Toyota\n",
    "print(my_car.model) # Output: Camry\n",
    "print(my_car.year) # Output: 2020"
   ]
  },
  {
   "cell_type": "code",
   "execution_count": null,
   "metadata": {},
   "outputs": [],
   "source": []
  },
  {
   "attachments": {},
   "cell_type": "markdown",
   "metadata": {},
   "source": [
    "## Ans 4\n",
    "The self keyword is used in object-oriented programming to refer to the instance of the class itself. In Python, it is used as the first parameter in class methods and is a reference to the current instance of the class.\n",
    "\n",
    "When you create an object from a class, you can access its attributes and methods using the dot notation. For example, if you have an object my_car created from the Car class, you can access its make attribute as follows: my_car.make.\n",
    "\n",
    "However, when you define a method within a class, you need to access its attributes using the self keyword. This is because the method is a function that is part of the class, and not a part of the object itself. By using self, you can ensure that the method has access to the attributes of the current instance of the class.\n",
    "\n"
   ]
  },
  {
   "attachments": {},
   "cell_type": "markdown",
   "metadata": {},
   "source": [
    "## Ans 5\n",
    "Inheritance is a mechanism in object-oriented programming that allows a new class to inherit the attributes and behaviors of an existing class. The new class is called the subclass or derived class, and the existing class is called the superclass or base class.\n",
    "\n",
    "Multiple Inheritance: In multiple inheritance, a subclass inherits from multiple superclasses. The subclass inherits all the attributes and behaviors of all the superclasses.\n",
    "Here's an example for multiple inheritance:"
   ]
  },
  {
   "cell_type": "code",
   "execution_count": null,
   "metadata": {},
   "outputs": [],
   "source": [
    "# Parent class 1\n",
    "class A:\n",
    "    def method1(self):\n",
    "        print(\"Method 1 of Class A\")\n",
    "\n",
    "# Parent class 2\n",
    "class B:\n",
    "    def method2(self):\n",
    "        print(\"Method 2 of Class B\")\n",
    "\n",
    "# Child class inheriting from both parent classes\n",
    "class C(A, B):\n",
    "    pass\n",
    "\n",
    "# Create an instance of the child class\n",
    "c = C()\n",
    "\n",
    "# Call methods from both parent classes\n",
    "c.method1()\n",
    "c.method2()"
   ]
  },
  {
   "attachments": {},
   "cell_type": "markdown",
   "metadata": {},
   "source": [
    "Multi-level inheritance: In multi-level inheritance, a class can inherit from a class which is already a subclass of another class. For example, consider a class Teacher that inherits from the Person class, and a class Principal that inherits from the Teacher class.\n",
    "Here's an example of multi-level inheritance:"
   ]
  },
  {
   "cell_type": "code",
   "execution_count": null,
   "metadata": {},
   "outputs": [],
   "source": [
    "# Parent class\n",
    "class A:\n",
    "    def method1(self):\n",
    "        print(\"Method 1 of Class A\")\n",
    "\n",
    "# Child class inheriting from parent class\n",
    "class B(A):\n",
    "    def method2(self):\n",
    "        print(\"Method 2 of Class B\")\n",
    "\n",
    "# Grandchild class inheriting from child class\n",
    "class C(B):\n",
    "    pass\n",
    "\n",
    "# Create an instance of the grandchild class\n",
    "c = C()\n",
    "\n",
    "# Call methods from both parent and child classes\n",
    "c.method1()\n",
    "c.method2()"
   ]
  },
  {
   "cell_type": "code",
   "execution_count": null,
   "metadata": {},
   "outputs": [],
   "source": []
  }
 ],
 "metadata": {
  "kernelspec": {
   "display_name": "Python 3",
   "language": "python",
   "name": "python3"
  },
  "language_info": {
   "codemirror_mode": {
    "name": "ipython",
    "version": 3
   },
   "file_extension": ".py",
   "mimetype": "text/x-python",
   "name": "python",
   "nbconvert_exporter": "python",
   "pygments_lexer": "ipython3",
   "version": "3.11.1"
  },
  "orig_nbformat": 4,
  "vscode": {
   "interpreter": {
    "hash": "8175448cb9053f40d8614a713ca5fe202ae27e624560e299b1229378f7f850ff"
   }
  }
 },
 "nbformat": 4,
 "nbformat_minor": 2
}
