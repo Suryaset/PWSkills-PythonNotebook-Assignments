{
 "cells": [
  {
   "cell_type": "code",
   "execution_count": null,
   "metadata": {},
   "outputs": [],
   "source": []
  },
  {
   "attachments": {},
   "cell_type": "markdown",
   "metadata": {},
   "source": [
    "### Ans 1\n",
    "Multithreading is a technique used in programming to allow multiple threads of execution to run concurrently within a single process. In Python, a thread is a separate flow of execution within a program that can run independently of other threads, allowing multiple parts of the program to run simultaneously.\n",
    "\n",
    "Multithreading is used in Python for a variety of reasons, such as improving program performance by executing multiple tasks in parallel, allowing for responsive user interfaces, and handling I/O operations without blocking the main thread.\n",
    "\n",
    "In Python, the threading module is used to handle threads. This module provides a simple way to create and manage threads in a program. It includes classes for creating and controlling threads, as well as functions for working with locks, semaphores, and other thread synchronization primitives."
   ]
  },
  {
   "attachments": {},
   "cell_type": "markdown",
   "metadata": {},
   "source": [
    "### Ans 2\n",
    "\n",
    "The threading module in Python is used to implement multi-threading programming. It allows multiple threads of execution to run concurrently within a single process, improving program performance by executing multiple tasks in parallel, allowing for responsive user interfaces, and handling I/O operations without blocking the main thread.\n",
    "\n",
    "Here are some uses of the functions provided by the threading module:\n",
    "\n",
    "activeCount(): This function returns the number of thread objects that are active in the current process. It can be used to keep track of the number of threads that are running in the background. \n",
    "\n",
    "currentThread(): This function returns a reference to the current thread object. It can be used to get information about the current thread, such as its name or ID\n",
    "\n",
    "enumerate(): This function returns a list of all thread objects that are active in the current process. It can be used to iterate over all active threads and perform operations on them, such as waiting for them to finish."
   ]
  },
  {
   "attachments": {},
   "cell_type": "markdown",
   "metadata": {},
   "source": [
    "### Ans 3\n",
    "In Python's threading module, the following functions are commonly used:\n",
    "\n",
    "run(): This method is called when a thread is started by calling the start() method. You can override this method in your custom thread class to define what the thread should do when it is started.\n",
    "\n",
    "start(): This method starts a new thread and calls the run() method of the thread. You should not call run() directly, but always call start() to create a new thread.\n",
    "\n",
    "join(): This method blocks the calling thread until the thread whose join() method is called has finished executing. This is useful when you want to wait for a thread to finish before continuing with the rest of your program.\n",
    "\n",
    "isAlive(): This method returns a boolean value indicating whether the thread is currently executing (True) or has finished executing (False). This is useful when you want to check whether a thread has finished before calling join()."
   ]
  },
  {
   "attachments": {},
   "cell_type": "markdown",
   "metadata": {},
   "source": [
    "### Ans 4\n",
    "Here's a Python program that creates two threads. The first thread prints the list of squares of numbers from 1 to 10, and the second thread prints the list of cubes of numbers from 1 to 10:\n",
    "\n",
    "```python\n",
    "import threading\n",
    "\n",
    "def print_squares():\n",
    "    for i in range(1, 11):\n",
    "        print(f\"{i} squared is {i*i}\")\n",
    "\n",
    "def print_cubes():\n",
    "    for i in range(1, 11):\n",
    "        print(f\"{i} cubed is {i*i*i}\")\n",
    "\n",
    "# create two threads\n",
    "t1 = threading.Thread(target=print_squares)\n",
    "t2 = threading.Thread(target=print_cubes)\n",
    "\n",
    "# start the threads\n",
    "t1.start()\n",
    "t2.start()\n",
    "\n",
    "# wait for the threads to finish\n",
    "t1.join()\n",
    "t2.join()\n",
    "\n",
    "print(\"Done\")\n",
    "```\n",
    "In this program, we define two functions print_squares() and print_cubes() that print the squares and cubes of numbers from 1 to 10, respectively. We then create two threads t1 and t2 with these functions as their targets, and start the threads using the start() method. Finally, we use the join() method to wait for the threads to finish before printing \"Done\" to indicate that the program has completed."
   ]
  },
  {
   "attachments": {},
   "cell_type": "markdown",
   "metadata": {},
   "source": [
    "### Ans 5\n",
    "Multithreading is a powerful programming technique that has both advantages and disadvantages. Here are some of them:\n",
    "\n",
    "Advantages:\n",
    "\n",
    "Improved performance\n",
    "Enhanced responsiveness\n",
    "Simpler programming model\n",
    "Better resource sharing\n",
    "\n",
    "Disadvantages:\n",
    "\n",
    "Increased complexity\n",
    "Synchronization overhead\n",
    "Platform-dependent\n",
    "Difficult to debug"
   ]
  },
  {
   "attachments": {},
   "cell_type": "markdown",
   "metadata": {},
   "source": [
    "### Ans 6\n",
    "Deadlocks occur when two or more threads are blocked indefinitely, waiting for each other to release a resource that they are holding. Race conditions occur when two or more threads access shared resources in an unpredictable order, resulting in non-deterministic behavior. Both can be avoided with careful design and proper synchronization techniques."
   ]
  },
  {
   "cell_type": "markdown",
   "metadata": {},
   "source": []
  }
 ],
 "metadata": {
  "language_info": {
   "name": "python"
  },
  "orig_nbformat": 4
 },
 "nbformat": 4,
 "nbformat_minor": 2
}
