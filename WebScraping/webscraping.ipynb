{
 "cells": [
  {
   "attachments": {},
   "cell_type": "markdown",
   "metadata": {},
   "source": [
    "## Ans 1"
   ]
  },
  {
   "attachments": {},
   "cell_type": "markdown",
   "metadata": {},
   "source": [
    "Web scraping is a data collection process that uses bots to find information on websites and copy it to a database. A web scraper is a software tool that can access data on any public website and extract and copy data from it1.\n",
    "\n",
    "Web scraping is used for a range of tasks such as price monitoring, market research, news monitoring, sentiment analysis, email marketing, and more2. Here are three areas where web scraping is used to get data:\n",
    "\n",
    "* Price Monitoring: Web scraping can be used by companies to scrap the product data for their products and competing products as well to see how it impacts their pricing strategies2.\n",
    "* Market Research: Web scraping can be used for market research by companies2.\n",
    "* News Monitoring: Web scraping can be used to monitor news and extract relevant information\n"
   ]
  },
  {
   "attachments": {},
   "cell_type": "markdown",
   "metadata": {},
   "source": [
    "## Ans 2\n",
    "There are many different ways to perform web scraping to obtain data from websites. These include using online services, particular API’s or even creating your code for web scraping from scratch. Here are some of the various Web scraping methods available:\n",
    "\n",
    "* Copy-pasting: The manual human examination and copy-pasting method may sometimes prove irreplaceable. At times, this technique may be the only practical method to use especially when websites are setup with barriers and machine automation cannot be enabled.\n",
    "* Text pattern matching: This method involves searching for specific patterns in the HTML code of a website and extracting the relevant data.\n",
    "* Web Scraping with Python: Python is a popular programming language for web scraping. It has many libraries and frameworks that make web scraping easier and faster.\n",
    "* Web Scraping with Nodejs: Node.js is another popular programming language for web scraping. It is known for its speed and scalability"
   ]
  },
  {
   "attachments": {},
   "cell_type": "markdown",
   "metadata": {},
   "source": [
    "## Ans 3\n",
    "Beautiful Soup is a Python package for parsing HTML and XML documents (including having malformed markup, i.e. non-closed tags, so named after tag soup). It creates a parse tree for parsed pages that can be used to extract data from HTML, which is useful for web scraping. Beautiful Soup was started by Leonard Richardson, who continues to contribute to the project, and is additionally supported by Tidelift, a paid subscription to open-source maintenance."
   ]
  },
  {
   "attachments": {},
   "cell_type": "markdown",
   "metadata": {},
   "source": [
    "## Ans 4\n",
    "Flask is a lightweight framework to build websites. It is used to parse the collected data and display it as HTML in a new HTML file. Flask is one of the most recognized web app frameworks that allow developers to have complete control over the codebase, which is small. Flask empowers developers to make decisions while selecting the components for development."
   ]
  },
  {
   "attachments": {},
   "cell_type": "markdown",
   "metadata": {},
   "source": [
    "## Ans 5\n",
    "The two AWS services that we used while deploying our application are CodePipeline and Elastic Beanstalk.\n",
    "AWS Elastic Beanstalk is an orchestration service offered by AWS for deploying applications. Elastic Beanstalk and CodePipeline are two great services offered by AWS that allow you to quickly get up and running with your application on the cloud in a continuous delivery environment. AWS CodePipeline is a fully managed continuous delivery service that helps you automate your release pipelines for fast and reliable application and infrastructure update."
   ]
  }
 ],
 "metadata": {
  "language_info": {
   "name": "python"
  },
  "orig_nbformat": 4
 },
 "nbformat": 4,
 "nbformat_minor": 2
}
