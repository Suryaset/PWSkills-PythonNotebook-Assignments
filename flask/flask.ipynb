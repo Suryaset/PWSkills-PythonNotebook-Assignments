{
 "cells": [
  {
   "attachments": {},
   "cell_type": "markdown",
   "metadata": {},
   "source": [
    "### Ans 1"
   ]
  },
  {
   "attachments": {},
   "cell_type": "markdown",
   "metadata": {},
   "source": [
    "Flask is a Python-based micro web framework that allows you to quickly build web applications with minimal boilerplate code. It is lightweight, modular, and easy to use, making it a popular choice for building web applications, APIs, and other web-based projects.\n",
    "\n",
    "* Flask is lightweight and flexible, allowing developers to customize and extend its functionality according to their specific needs.\n",
    "* Flask has a simple and intuitive API, making it easy for developers to learn and use, even for beginners.\n",
    "* Flask is highly extensible and can be easily integrated with other tools and technologies, such as databases and front-end frameworks.\n",
    "* Flask allows for fast development and is ideal for projects with tight deadlines or rapid iteration cycles.\n",
    "* Flask has a large and active community of developers, providing resources, tutorials, and examples.\n",
    "* Flask is suitable for small to medium-sized projects and is an excellent choice for building web applications and APIs."
   ]
  },
  {
   "attachments": {},
   "cell_type": "markdown",
   "metadata": {},
   "source": [
    "### Ans 2\n"
   ]
  },
  {
   "attachments": {},
   "cell_type": "markdown",
   "metadata": {},
   "source": [
    "![IMAGE](../Python/helloworld.png)"
   ]
  },
  {
   "attachments": {},
   "cell_type": "markdown",
   "metadata": {},
   "source": [
    "### Ans 3\n",
    "In Flask, routing refers to the process of mapping URLs to functions that handle those URLs. The routing system in Flask is provided by the Flask class, which allows you to create routes using the @app.route() decorator.\n",
    "\n",
    "An app route in Flask is a decorator function that binds a URL to a Python function. When a user requests a URL that matches a route, Flask invokes the associated Python function and returns the result as an HTTP response.\n",
    "\n",
    "App routes are used in Flask for several reasons:\n",
    "\n",
    "* To define the structure of a web application: Routes define the URLs that users can access to interact with your web application. By defining app routes, you can create a structured architecture for your application that makes it easier to maintain and scale.\n",
    "\n",
    "* To implement different functionality: Different routes can be used to implement different functionality within your application. For example, you might have routes for displaying different pages, handling form submissions, or processing API requests.\n",
    "\n",
    "* To implement RESTful APIs: App routes are often used to implement RESTful APIs in Flask. By defining different routes for different API endpoints, you can allow other applications to interact with your application programmatically."
   ]
  },
  {
   "attachments": {},
   "cell_type": "markdown",
   "metadata": {},
   "source": [
    "### Ans 4\n",
    "Screenshot to output “/welcome” route and \"/\" route:"
   ]
  },
  {
   "attachments": {},
   "cell_type": "markdown",
   "metadata": {},
   "source": [
    "![Abc_Corp](../Python/abc_corp.png)"
   ]
  },
  {
   "attachments": {},
   "cell_type": "markdown",
   "metadata": {},
   "source": [
    "### Ans 5"
   ]
  },
  {
   "attachments": {},
   "cell_type": "markdown",
   "metadata": {},
   "source": [
    "In Flask, the url_for() function is used for URL building. It is a helper function that generates a URL for a specified function, allowing you to easily create links between different routes in your application.\n",
    "\n",
    "Here is an example Python code to demonstrate how the url_for() function works in Flask:"
   ]
  },
  {
   "cell_type": "code",
   "execution_count": null,
   "metadata": {},
   "outputs": [],
   "source": [
    "from flask import Flask, url_for\n",
    "\n",
    "app = Flask(__name__)\n",
    "\n",
    "@app.route('/')\n",
    "def home():\n",
    "    return 'This is the home page'\n",
    "\n",
    "@app.route('/about')\n",
    "def about():\n",
    "    return 'This is the about page'\n",
    "\n",
    "@app.route('/contact')\n",
    "def contact():\n",
    "    return 'This is the contact page'\n",
    "\n",
    "@app.route('/user/<username>')\n",
    "def user(username):\n",
    "    return f'This is the profile page for {username}'\n",
    "\n",
    "if __name__ == '__main__':\n",
    "    with app.test_request_context():\n",
    "        print(url_for('home'))          # Output: '/'\n",
    "        print(url_for('about'))         # Output: '/about'\n",
    "        print(url_for('contact'))       # Output: '/contact'\n",
    "        print(url_for('user', username='Surya@PWSkills'))  # Output: '/user/Surya@PWSkills'\n"
   ]
  },
  {
   "attachments": {},
   "cell_type": "markdown",
   "metadata": {},
   "source": [
    "![url_forDemo](../Python/url_forDemo.png)"
   ]
  }
 ],
 "metadata": {
  "kernelspec": {
   "display_name": "Python 3",
   "language": "python",
   "name": "python3"
  },
  "language_info": {
   "codemirror_mode": {
    "name": "ipython",
    "version": 3
   },
   "file_extension": ".py",
   "mimetype": "text/x-python",
   "name": "python",
   "nbconvert_exporter": "python",
   "pygments_lexer": "ipython3",
   "version": "3.11.1"
  },
  "orig_nbformat": 4,
  "vscode": {
   "interpreter": {
    "hash": "8175448cb9053f40d8614a713ca5fe202ae27e624560e299b1229378f7f850ff"
   }
  }
 },
 "nbformat": 4,
 "nbformat_minor": 2
}
