{
 "cells": [
  {
   "cell_type": "code",
   "execution_count": null,
   "metadata": {},
   "outputs": [],
   "source": []
  },
  {
   "attachments": {},
   "cell_type": "markdown",
   "metadata": {},
   "source": [
    "## Ans 1"
   ]
  },
  {
   "attachments": {},
   "cell_type": "markdown",
   "metadata": {},
   "source": [
    "Here are five functions of the Pandas library along with an example of how to execute them:\n",
    "* 1: read_csv(): This function is used to read data from a CSV file and create a DataFrame object in Pandas."
   ]
  },
  {
   "cell_type": "code",
   "execution_count": null,
   "metadata": {},
   "outputs": [],
   "source": [
    "import pandas as pd\n",
    "\n",
    "#Read CSV file into a DataFrame\n",
    "df = pd.read_csv('data.csv')\n",
    "\n",
    "#Display the first five rows of the DataFrame\n",
    "print(df.head())"
   ]
  },
  {
   "attachments": {},
   "cell_type": "markdown",
   "metadata": {},
   "source": [
    "* 2: fillna(): This function is used to fill missing values in a DataFrame with a specified value or method."
   ]
  },
  {
   "cell_type": "code",
   "execution_count": 48,
   "metadata": {},
   "outputs": [
    {
     "name": "stdout",
     "output_type": "stream",
     "text": [
      "     A    B\n",
      "0  1.0  5.0\n",
      "1  2.0  0.0\n",
      "2  0.0  7.0\n",
      "3  4.0  8.0\n"
     ]
    }
   ],
   "source": [
    "import pandas as pd\n",
    "import numpy as np\n",
    "\n",
    "# Create a DataFrame with missing values\n",
    "df = pd.DataFrame({'A': [1, 2, np.nan, 4],\n",
    "                   'B': [5, np.nan, 7, 8]})\n",
    "\n",
    "# Fill missing values with 0\n",
    "df.fillna(0, inplace=True)\n",
    "\n",
    "# Display the DataFrame\n",
    "print(df)\n"
   ]
  },
  {
   "attachments": {},
   "cell_type": "markdown",
   "metadata": {},
   "source": [
    "* 3: groupby(): This function is used to group rows of a DataFrame based on one or more columns, and then perform some computation on each group."
   ]
  },
  {
   "cell_type": "code",
   "execution_count": 49,
   "metadata": {},
   "outputs": [
    {
     "name": "stdout",
     "output_type": "stream",
     "text": [
      "         Score\n",
      "Name          \n",
      "Alice     82.5\n",
      "Bob       92.5\n",
      "Charlie   72.5\n"
     ]
    }
   ],
   "source": [
    "import pandas as pd\n",
    "\n",
    "# Create a DataFrame\n",
    "df = pd.DataFrame({'Name': ['Alice', 'Bob', 'Charlie', 'Alice', 'Bob', 'Charlie'],\n",
    "                   'Score': [85, 90, 75, 80, 95, 70]})\n",
    "\n",
    "# Group the DataFrame by 'Name' column and calculate the mean of each group's 'Score'\n",
    "grouped = df.groupby('Name').mean()\n",
    "\n",
    "# Display the grouped DataFrame\n",
    "print(grouped)\n"
   ]
  },
  {
   "attachments": {},
   "cell_type": "markdown",
   "metadata": {},
   "source": [
    "* concat(): This function is used to concatenate two or more DataFrames along a specified axis."
   ]
  },
  {
   "cell_type": "code",
   "execution_count": 50,
   "metadata": {},
   "outputs": [
    {
     "name": "stdout",
     "output_type": "stream",
     "text": [
      "   A  B\n",
      "0  1  4\n",
      "1  2  5\n",
      "2  3  6\n",
      "0  4  7\n",
      "1  5  8\n",
      "2  6  9\n"
     ]
    }
   ],
   "source": [
    "import pandas as pd\n",
    "\n",
    "# Create two DataFrames\n",
    "df1 = pd.DataFrame({'A': [1, 2, 3], 'B': [4, 5, 6]})\n",
    "df2 = pd.DataFrame({'A': [4, 5, 6], 'B': [7, 8, 9]})\n",
    "\n",
    "# Concatenate the two DataFrames along the row axis (axis=0)\n",
    "concatenated = pd.concat([df1, df2], axis=0)\n",
    "\n",
    "# Display the concatenated DataFrame\n",
    "print(concatenated)\n"
   ]
  },
  {
   "attachments": {},
   "cell_type": "markdown",
   "metadata": {},
   "source": [
    "* pivot_table(): This function is used to create a pivot table from a DataFrame."
   ]
  },
  {
   "cell_type": "code",
   "execution_count": 51,
   "metadata": {},
   "outputs": [
    {
     "name": "stdout",
     "output_type": "stream",
     "text": [
      "Subject  Math  Science\n",
      "Name                  \n",
      "Alice      85       80\n",
      "Bob        90       95\n",
      "Charlie    75       70\n"
     ]
    }
   ],
   "source": [
    "import pandas as pd\n",
    "\n",
    "# Create a DataFrame\n",
    "df = pd.DataFrame({'Name': ['Alice', 'Bob', 'Charlie', 'Alice', 'Bob', 'Charlie'],\n",
    "                   'Subject': ['Math', 'Math', 'Math', 'Science', 'Science', 'Science'],\n",
    "                   'Score': [85, 90, 75, 80, 95, 70]})\n",
    "\n",
    "# Create a pivot table from the DataFrame, with 'Name' as rows and 'Subject' as columns\n",
    "pivot_table = pd.pivot_table(df, values='Score', index='Name', columns='Subject', aggfunc=np.mean)\n",
    "\n",
    "# Display the pivot table\n",
    "print(pivot_table)\n"
   ]
  },
  {
   "attachments": {},
   "cell_type": "markdown",
   "metadata": {},
   "source": [
    "## Ans 2"
   ]
  },
  {
   "attachments": {},
   "cell_type": "markdown",
   "metadata": {},
   "source": [
    "Here's an example Python function that re-indexes a Pandas DataFrame with a new index that starts from 1 and increments by 2 for each row:"
   ]
  },
  {
   "cell_type": "code",
   "execution_count": 52,
   "metadata": {},
   "outputs": [],
   "source": [
    "import pandas as pd\n",
    "\n",
    "def reindex_dataframe(df):\n",
    "    # Create a new index that starts from 1 and increments by 2 for each row\n",
    "    new_index = pd.Index(range(1, 2*len(df)+1, 2))\n",
    "    \n",
    "    # Reindex the DataFrame with the new index\n",
    "    df = df.reindex(new_index)\n",
    "    \n",
    "    # Return the reindexed DataFrame\n",
    "    return df\n"
   ]
  },
  {
   "cell_type": "code",
   "execution_count": 53,
   "metadata": {},
   "outputs": [
    {
     "name": "stdout",
     "output_type": "stream",
     "text": [
      "     A    B    C\n",
      "1  2.0  5.0  8.0\n",
      "3  NaN  NaN  NaN\n",
      "5  NaN  NaN  NaN\n"
     ]
    }
   ],
   "source": [
    "# Create a sample DataFrame\n",
    "df = pd.DataFrame({'A': [1, 2, 3], 'B': [4, 5, 6], 'C': [7, 8, 9]})\n",
    "\n",
    "# Reindex the DataFrame using the reindex_dataframe() function\n",
    "df = reindex_dataframe(df)\n",
    "\n",
    "# Display the reindexed DataFrame\n",
    "print(df)\n"
   ]
  },
  {
   "attachments": {},
   "cell_type": "markdown",
   "metadata": {},
   "source": [
    "This will output a reindexed DataFrame with the same data as the original DataFrame, but with a new index that starts from 1 and increments by 2 for each row."
   ]
  },
  {
   "attachments": {},
   "cell_type": "markdown",
   "metadata": {},
   "source": [
    "## Ans 3"
   ]
  },
  {
   "attachments": {},
   "cell_type": "markdown",
   "metadata": {},
   "source": [
    "Here's an example Python function that iterates over a Pandas DataFrame and calculates the sum of the first three values in the 'Values' column:"
   ]
  },
  {
   "cell_type": "code",
   "execution_count": 54,
   "metadata": {},
   "outputs": [],
   "source": [
    "import pandas as pd\n",
    "\n",
    "def calculate_sum(df):\n",
    "    # Initialize a variable to store the sum\n",
    "    total = 0\n",
    "    \n",
    "    # Iterate over the first three rows in the 'Values' column and calculate the sum\n",
    "    for val in df['Values'].iloc[:3]:\n",
    "        total += val\n",
    "    \n",
    "    # Print the sum to the console\n",
    "    print('The sum of the first three values in the \"Values\" column is:', total)\n"
   ]
  },
  {
   "attachments": {},
   "cell_type": "markdown",
   "metadata": {},
   "source": [
    "We can call this function by passing in your DataFrame as an argument:"
   ]
  },
  {
   "cell_type": "code",
   "execution_count": 55,
   "metadata": {},
   "outputs": [
    {
     "name": "stdout",
     "output_type": "stream",
     "text": [
      "The sum of the first three values in the \"Values\" column is: 6\n"
     ]
    }
   ],
   "source": [
    "# Create a sample DataFrame\n",
    "df = pd.DataFrame({'Values': [1, 2, 3, 4, 5]})\n",
    "\n",
    "# Calculate the sum using the calculate_sum() function\n",
    "calculate_sum(df)\n"
   ]
  },
  {
   "attachments": {},
   "cell_type": "markdown",
   "metadata": {},
   "source": [
    "## Ans 4\n",
    "Here is a Python function that takes a Pandas DataFrame df with a column ‘Text’ as input and returns a new DataFrame with an additional column ‘Word_Count’ that contains the number of words in each row of the ‘Text’ column:"
   ]
  },
  {
   "cell_type": "code",
   "execution_count": 56,
   "metadata": {},
   "outputs": [
    {
     "name": "stdout",
     "output_type": "stream",
     "text": [
      "                           Text  Word_Count\n",
      "0            This is a sentence           4\n",
      "1      This is another sentence           4\n",
      "2  This is yet another sentence           5\n"
     ]
    }
   ],
   "source": [
    "import pandas as pd\n",
    "\n",
    "def add_word_count(df):\n",
    "    df['Word_Count'] = df['Text'].apply(lambda x: len(str(x).split()))\n",
    "    return df\n",
    "\n",
    "# Create a sample DataFrame\n",
    "data = {'Text': ['This is a sentence', 'This is another sentence', 'This is yet another sentence']}\n",
    "df = pd.DataFrame(data)\n",
    "\n",
    "# Call the add_word_count function\n",
    "df = add_word_count(df)\n",
    "\n",
    "# Display the resulting DataFrame\n",
    "print(df)"
   ]
  },
  {
   "attachments": {},
   "cell_type": "markdown",
   "metadata": {},
   "source": [
    "## Ans 5\n",
    "DataFrame.size and DataFrame.shape are two attributes of a Pandas DataFrame that provide information about its size.\n",
    "\n",
    "DataFrame.size returns the total number of elements in the DataFrame. This is equal to the product of the number of rows and the number of columns.\n",
    "\n",
    "DataFrame.shape returns a tuple representing the dimensions of the DataFrame. The first element of the tuple is the number of rows and the second element is the number of columns.\n",
    "Here’s an example to illustrate the difference between DataFrame.size and DataFrame.shape:\n"
   ]
  },
  {
   "cell_type": "code",
   "execution_count": 57,
   "metadata": {},
   "outputs": [
    {
     "name": "stdout",
     "output_type": "stream",
     "text": [
      "Size: 4\n",
      "Shape: (2, 2)\n"
     ]
    }
   ],
   "source": [
    "import pandas as pd\n",
    "\n",
    "# Create a sample DataFrame\n",
    "data = {'A': [1, 2], 'B': [3, 4]}\n",
    "df = pd.DataFrame(data)\n",
    "\n",
    "# Get the size and shape of the DataFrame\n",
    "size = df.size\n",
    "shape = df.shape\n",
    "\n",
    "print(f\"Size: {size}\")\n",
    "print(f\"Shape: {shape}\")"
   ]
  },
  {
   "attachments": {},
   "cell_type": "markdown",
   "metadata": {},
   "source": [
    "## Ans 6\n",
    "You can use the pandas.read_excel function to read the contents of an Excel file into a Pandas DataFrame. This function takes the path to the Excel file as its first argument and returns a DataFrame containing the data from the file."
   ]
  },
  {
   "attachments": {},
   "cell_type": "markdown",
   "metadata": {},
   "source": [
    "## Ans 7\n",
    "Here is a Python function that takes a Pandas DataFrame df with a column ‘Email’ as input and returns a new DataFrame with an additional column ‘Username’ that contains only the username part of each email address:"
   ]
  },
  {
   "cell_type": "code",
   "execution_count": 58,
   "metadata": {},
   "outputs": [
    {
     "name": "stdout",
     "output_type": "stream",
     "text": [
      "                 Email Username\n",
      "0    alice@example.com    alice\n",
      "1      bob@example.com      bob\n",
      "2  charlie@example.com  charlie\n"
     ]
    }
   ],
   "source": [
    "import pandas as pd\n",
    "\n",
    "def add_username(df):\n",
    "    df['Username'] = df['Email'].apply(lambda x: str(x).split('@')[0])\n",
    "    return df\n",
    "\n",
    "# Create a sample DataFrame\n",
    "data = {'Email': ['alice@example.com', 'bob@example.com', 'charlie@example.com']}\n",
    "df = pd.DataFrame(data)\n",
    "\n",
    "# Call the add_username function\n",
    "df = add_username(df)\n",
    "\n",
    "# Display the resulting DataFrame\n",
    "print(df)"
   ]
  },
  {
   "attachments": {},
   "cell_type": "markdown",
   "metadata": {},
   "source": [
    "## Ans 8\n"
   ]
  },
  {
   "cell_type": "code",
   "execution_count": 59,
   "metadata": {},
   "outputs": [
    {
     "name": "stdout",
     "output_type": "stream",
     "text": [
      "   A  B  C\n",
      "1  8  2  7\n",
      "2  6  9  4\n",
      "4  9  1  2\n"
     ]
    }
   ],
   "source": [
    "import pandas as pd\n",
    "\n",
    "def select_rows(df):\n",
    "    df = df[(df['A'] > 5) & (df['B'] < 10)]\n",
    "    return df\n",
    "\n",
    "# Create a sample DataFrame\n",
    "data = {'A': [3, 8, 6, 2, 9], 'B': [5, 2, 9, 3, 1], 'C': [1, 7, 4, 5, 2]}\n",
    "df = pd.DataFrame(data)\n",
    "\n",
    "# Call the select_rows function\n",
    "df = select_rows(df)\n",
    "\n",
    "# Display the resulting DataFrame\n",
    "print(df)"
   ]
  },
  {
   "attachments": {},
   "cell_type": "markdown",
   "metadata": {},
   "source": [
    "## Ans 9\n",
    "Here is a Python function that takes a Pandas DataFrame df with a column ‘Values’ as input and returns the mean, median, and standard deviation of the values in the ‘Values’ column:"
   ]
  },
  {
   "cell_type": "code",
   "execution_count": 60,
   "metadata": {},
   "outputs": [],
   "source": [
    "import pandas as pd\n",
    "\n",
    "def calculate_statistics(df):\n",
    "    mean = df['Values'].mean()\n",
    "    median = df['Values'].median()\n",
    "    std = df['Values'].std()\n",
    "    return mean, median, std"
   ]
  },
  {
   "cell_type": "code",
   "execution_count": 61,
   "metadata": {},
   "outputs": [
    {
     "name": "stdout",
     "output_type": "stream",
     "text": [
      "Mean: 3.0\n",
      "Median: 3.0\n",
      "Standard Deviation: 1.5811388300841898\n"
     ]
    }
   ],
   "source": [
    "# Create a sample DataFrame\n",
    "data = {'Values': [1, 2, 3, 4, 5]}\n",
    "df = pd.DataFrame(data)\n",
    "\n",
    "# Call the calculate_statistics function\n",
    "mean, median, std = calculate_statistics(df)\n",
    "\n",
    "# Display the resulting statistics\n",
    "print(f\"Mean: {mean}\")\n",
    "print(f\"Median: {median}\")\n",
    "print(f\"Standard Deviation: {std}\")"
   ]
  },
  {
   "attachments": {},
   "cell_type": "markdown",
   "metadata": {},
   "source": [
    "## Ans 10"
   ]
  },
  {
   "attachments": {},
   "cell_type": "markdown",
   "metadata": {},
   "source": [
    "Here is a Python function that takes a Pandas DataFrame df with columns ‘Sales’ and ‘Date’ as input and returns a new DataFrame with an additional column ‘MovingAverage’ that contains the moving average of the sales for the past 7 days for each row in the DataFrame:"
   ]
  },
  {
   "cell_type": "code",
   "execution_count": 62,
   "metadata": {},
   "outputs": [],
   "source": [
    "import pandas as pd\n",
    "\n",
    "def add_moving_average(df):\n",
    "    df['MovingAverage'] = df['Sales'].rolling(window=7, min_periods=1).mean()\n",
    "    return df"
   ]
  },
  {
   "cell_type": "code",
   "execution_count": 63,
   "metadata": {},
   "outputs": [
    {
     "name": "stdout",
     "output_type": "stream",
     "text": [
      "         Date  Sales  MovingAverage\n",
      "0  2022-01-01      1            1.0\n",
      "1  2022-01-02      2            1.5\n",
      "2  2022-01-03      3            2.0\n",
      "3  2022-01-04      4            2.5\n",
      "4  2022-01-05      5            3.0\n",
      "5  2022-01-06      6            3.5\n",
      "6  2022-01-07      7            4.0\n",
      "7  2022-01-08      8            5.0\n"
     ]
    }
   ],
   "source": [
    "# Create a sample DataFrame\n",
    "data = {'Date': ['2022-01-01', '2022-01-02', '2022-01-03', '2022-01-04', '2022-01-05', '2022-01-06', '2022-01-07', '2022-01-08'], 'Sales': [1, 2, 3, 4, 5, 6, 7, 8]}\n",
    "df = pd.DataFrame(data)\n",
    "\n",
    "# Call the add_moving_average function\n",
    "df = add_moving_average(df)\n",
    "\n",
    "# Display the resulting DataFrame\n",
    "print(df)"
   ]
  },
  {
   "attachments": {},
   "cell_type": "markdown",
   "metadata": {},
   "source": [
    "## Ans 11\n",
    "Here is a Python function that takes a Pandas DataFrame df with a column ‘Date’ as input and returns a new DataFrame with an additional column ‘Weekday’ that contains the weekday name corresponding to each date in the ‘Date’ column:"
   ]
  },
  {
   "cell_type": "code",
   "execution_count": 64,
   "metadata": {},
   "outputs": [],
   "source": [
    "import pandas as pd\n",
    "\n",
    "def add_weekday(df):\n",
    "    df['Weekday'] = pd.to_datetime(df['Date']).dt.day_name()\n",
    "    return df"
   ]
  },
  {
   "attachments": {},
   "cell_type": "markdown",
   "metadata": {},
   "source": [
    "You can use this function by calling add_weekday(df) where df is your input DataFrame.\n",
    "\n",
    "This function uses the pandas.to_datetime function to convert the values in the ‘Date’ column to Pandas Timestamp objects. The day_name method is then called on these Timestamp objects to get the weekday name corresponding to each date.\n",
    "\n",
    "Here’s an example that shows how to use the add_weekday function:"
   ]
  },
  {
   "cell_type": "code",
   "execution_count": 65,
   "metadata": {},
   "outputs": [
    {
     "name": "stdout",
     "output_type": "stream",
     "text": [
      "         Date    Weekday\n",
      "0  2023-01-01     Sunday\n",
      "1  2023-01-02     Monday\n",
      "2  2023-01-03    Tuesday\n",
      "3  2023-01-04  Wednesday\n",
      "4  2023-01-05   Thursday\n"
     ]
    }
   ],
   "source": [
    "# Create a sample DataFrame\n",
    "data = {'Date': ['2023-01-01', '2023-01-02', '2023-01-03', '2023-01-04', '2023-01-05']}\n",
    "df = pd.DataFrame(data)\n",
    "\n",
    "# Call the add_weekday function\n",
    "df = add_weekday(df)\n",
    "\n",
    "# Display the resulting DataFrame\n",
    "print(df)"
   ]
  },
  {
   "attachments": {},
   "cell_type": "markdown",
   "metadata": {},
   "source": [
    "## Ans 12\n",
    "Here is a Python function that takes a Pandas DataFrame df with a column ‘Date’ as input and returns a new DataFrame that contains only the rows where the date is between ‘2023-01-01’ and ‘2023-01-31’:"
   ]
  },
  {
   "cell_type": "code",
   "execution_count": 66,
   "metadata": {},
   "outputs": [
    {
     "name": "stdout",
     "output_type": "stream",
     "text": [
      "         Date\n",
      "1  2023-01-01\n",
      "2  2023-01-15\n",
      "3  2023-01-31\n"
     ]
    }
   ],
   "source": [
    "import pandas as pd\n",
    "\n",
    "def select_rows(df):\n",
    "    start_date = '2023-01-01'\n",
    "    end_date = '2023-01-31'\n",
    "    mask = (df['Date'] >= start_date) & (df['Date'] <= end_date)\n",
    "    df = df.loc[mask]\n",
    "    return df\n",
    "\n",
    "# Create a sample DataFrame\n",
    "data = {'Date': ['2022-12-31', '2023-01-01', '2023-01-15', '2023-01-31', '2023-02-01']}\n",
    "df = pd.DataFrame(data)\n",
    "\n",
    "# Call the select_rows function\n",
    "df = select_rows(df)\n",
    "\n",
    "# Display the resulting DataFrame\n",
    "print(df)"
   ]
  },
  {
   "attachments": {},
   "cell_type": "markdown",
   "metadata": {},
   "source": [
    "This code creates a sample DataFrame with a ‘Date’ column containing some example dates. The select_rows function is then called on this DataFrame to select only the rows where the date is between ‘2023-01-01’ and ‘2023-01-31’. The resulting DataFrame is then printed to the console."
   ]
  },
  {
   "attachments": {},
   "cell_type": "markdown",
   "metadata": {},
   "source": [
    "## Ans 13\n",
    "To use the basic functions of the Pandas library, you need to import the Pandas library itself. This can be done using the import statement in Python. It is common practice to import Pandas using the alias pd to make it easier to reference the library in your code. Here’s an example of how to import the Pandas library:"
   ]
  },
  {
   "cell_type": "code",
   "execution_count": 67,
   "metadata": {},
   "outputs": [],
   "source": [
    "import pandas as pd"
   ]
  },
  {
   "cell_type": "code",
   "execution_count": null,
   "metadata": {},
   "outputs": [],
   "source": []
  }
 ],
 "metadata": {
  "kernelspec": {
   "display_name": "Python 3",
   "language": "python",
   "name": "python3"
  },
  "language_info": {
   "codemirror_mode": {
    "name": "ipython",
    "version": 3
   },
   "file_extension": ".py",
   "mimetype": "text/x-python",
   "name": "python",
   "nbconvert_exporter": "python",
   "pygments_lexer": "ipython3",
   "version": "3.11.1"
  },
  "orig_nbformat": 4
 },
 "nbformat": 4,
 "nbformat_minor": 2
}
