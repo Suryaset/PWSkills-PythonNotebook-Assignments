{
 "cells": [
  {
   "attachments": {},
   "cell_type": "markdown",
   "metadata": {},
   "source": [
    "### Ans 1\n",
    "In Python, all exceptions are derived from the base Exception class. This means that when you create a custom exception, you need to inherit from the base Exception class to create a new type of exception.\n",
    "\n",
    "When you create a custom exception, you are defining a new type of error that can occur in your program. This error should have its own name, error message, and possibly other properties or methods that are specific to that error. By inheriting from the Exception class, your custom exception will inherit all of the behavior and properties of the base Exception class, which is designed to handle and represent all types of exceptions in Python."
   ]
  },
  {
   "attachments": {},
   "cell_type": "markdown",
   "metadata": {},
   "source": [
    "### Ans 2\n",
    "\n",
    "Here's a Python program that prints the Python Exception Hierarchy using the __subclasses__() method:\n",
    "```python\n",
    "def print_exception_hierarchy():\n",
    "    for exception in BaseException.__subclasses__():\n",
    "        print(exception.__name__)\n",
    "        for subclass in exception.__subclasses__():\n",
    "            print(\"    \" + subclass.__name__)\n",
    "\n",
    "print_exception_hierarchy()\n",
    "```\n",
    "This program defines a function called print_exception_hierarchy that takes an exception class and an optional indentation level as arguments. It prints the name of the exception class with the given indentation level, and then recursively calls itself on all of the subclasses of that exception class, with an increased indentation level.\n",
    "\n",
    "The program then calls print_exception_hierarchy with the base BaseException class, which is the root of the Python exception hierarchy. This prints the entire exception hierarchy, including all built-in and custom exceptions that inherit from BaseException.\n"
   ]
  },
  {
   "attachments": {},
   "cell_type": "markdown",
   "metadata": {},
   "source": [
    "### Ans 3\n",
    "The ArithmeticError class is a built-in Python exception class that represents errors that occur during arithmetic operations, such as division by zero, overflow or underflow. It is a subclass of the Exception class, and is itself the parent class of several more specific arithmetic exception classes.\n",
    "\n",
    "Here are two examples of specific exceptions that are defined as subclasses of ArithmeticError:\n",
    "\n",
    "ZeroDivisionError: This exception is raised when a division or modulo operation is performed with a divisor of zero. For example, consider the following code:\n",
    "\n",
    "```python\n",
    "x = 10\n",
    "y = 0\n",
    "z = x / y\n",
    "```\n",
    "When this code is executed, a ZeroDivisionError will be raised because we are attempting to divide x by y, which has the value of 0.\n",
    "\n",
    "FloatingPointError: This exception is raised when a floating-point operation fails to produce a valid result. For example, consider the following code:\n",
    "\n",
    "```python\n",
    "x = 0.1\n",
    "y = 0.2\n",
    "z = 0.3\n",
    "if x + y == z:\n",
    "    print(\"x + y = z\")\n",
    "else:\n",
    "    print(\"x + y != z\")\n",
    "```\n",
    "When this code is executed, the output will be x + y != z. This is because the binary representation of 0.1 and 0.2 is not exact, and when these values are added together, the result is a value that is very close to, but not exactly equal to, 0.3. Therefore, the if statement evaluates to False, and the else block is executed."
   ]
  },
  {
   "attachments": {},
   "cell_type": "markdown",
   "metadata": {},
   "source": [
    "### Ans 4\n",
    "\n",
    "The LookupError class is a built-in Python exception class that represents errors that occur when a specified key or index is not found in a collection. It is the parent class of more specific exceptions such as KeyError and IndexError.\n",
    "\n",
    "Here are two examples of specific exceptions that are defined as subclasses of LookupError:\n",
    "\n",
    "KeyError: This exception is raised when a key is not found in a dictionary or other mapping type. For example:\n",
    "\n",
    "```python\n",
    "my_dict = {\"apple\": 1, \"banana\": 2, \"orange\": 3}\n",
    "print(my_dict[\"pear\"])\n",
    "```\n",
    "When this code is executed, a KeyError will be raised because \"pear\" is not a key in the my_dict dictionary.\n",
    "\n",
    "IndexError: This exception is raised when an index is out of range in a sequence, such as a list or tuple. For example:\n",
    "\n",
    "```python\n",
    "my_list = [1, 2, 3]\n",
    "print(my_list[3])\n",
    "```\n",
    "When this code is executed, a IndexError will be raised because the index 3 is out of range for the my_list list.\n",
    "\n",
    "Both KeyError and IndexError are specific exceptions that are subclasses of the more general LookupError class."
   ]
  },
  {
   "attachments": {},
   "cell_type": "markdown",
   "metadata": {},
   "source": [
    "### Ans 5\n",
    "\n",
    "ImportError is a built-in Python exception class that is raised when an imported module or package cannot be found or loaded. This can occur for a variety of reasons, such as a typo in the module name, the module not being installed, or a missing dependency.\n",
    "\n",
    "Here's an example of an ImportError that occurs when attempting to import a non-existent module:\n",
    "\n",
    "```python\n",
    "try:\n",
    "    import my_module\n",
    "except ImportError:\n",
    "    print(\"Module not found\")\n",
    "```\n",
    "In this example, the import my_module statement raises an ImportError because the my_module module does not exist. The code inside the except block is then executed, printing the message \"Module not found\".\n",
    "\n",
    "Starting from Python 3.6, a more specific exception class called ModuleNotFoundError was introduced to specifically handle cases where a module cannot be found. This exception is a subclass of ImportError, so any code that catches ImportError will also catch ModuleNotFoundError.\n",
    "\n",
    "Here's an example of using ModuleNotFoundError:\n",
    "\n",
    "```python\n",
    "try:\n",
    "    import my_module\n",
    "except ModuleNotFoundError:\n",
    "    print(\"Module not found\")\n",
    "```\n",
    "In this example, the except block will only be executed if the exception raised is specifically a ModuleNotFoundError, and not a different type of ImportError."
   ]
  },
  {
   "attachments": {},
   "cell_type": "markdown",
   "metadata": {},
   "source": [
    "### Ans 6\n",
    "Here are some best practices for exception handling in Python:\n",
    "\n",
    "Be specific: Catch only the exceptions you can handle and leave the rest for the caller to handle. Catching a generic exception like Exception is usually not recommended as it can mask other errors and make debugging more difficult.\n",
    "\n",
    "Keep it short: Place only the code that might raise an exception inside the try block. Don't put long, complex code blocks inside try blocks, as this can make the code harder to read and debug.\n",
    "\n",
    "Avoid using bare except clauses: Instead of catching all exceptions with a bare except: clause, use specific exceptions or catch only the exceptions that you expect to occur. This makes your code more readable and helps to ensure that you handle the expected exceptions properly.\n",
    "\n",
    "Use finally: Use the finally block to clean up resources like files or network connections that were opened inside the try block, regardless of whether an exception was raised or not.\n",
    "\n",
    "Log errors: Log exceptions instead of printing them to the console. This helps in debugging and maintaining the code.\n",
    "\n",
    "Use context managers: Use context managers like with statement to automatically clean up resources and avoid errors caused by forgetting to close resources.\n",
    "\n",
    "Document exceptions: Document which exceptions a function may raise and what they mean in the function's docstring. This makes it easier for other developers to use and maintain your code.\n",
    "\n",
    "Use custom exceptions: Create custom exception classes to better handle specific types of errors that might occur in your code.\n",
    "\n",
    "By following these best practices, you can write more robust and maintainable code that is easier to debug and less prone to errors."
   ]
  },
  {
   "cell_type": "markdown",
   "metadata": {},
   "source": []
  }
 ],
 "metadata": {
  "kernelspec": {
   "display_name": "Python 3",
   "language": "python",
   "name": "python3"
  },
  "language_info": {
   "codemirror_mode": {
    "name": "ipython",
    "version": 3
   },
   "file_extension": ".py",
   "mimetype": "text/x-python",
   "name": "python",
   "nbconvert_exporter": "python",
   "pygments_lexer": "ipython3",
   "version": "3.11.1"
  },
  "orig_nbformat": 4,
  "vscode": {
   "interpreter": {
    "hash": "8175448cb9053f40d8614a713ca5fe202ae27e624560e299b1229378f7f850ff"
   }
  }
 },
 "nbformat": 4,
 "nbformat_minor": 2
}
