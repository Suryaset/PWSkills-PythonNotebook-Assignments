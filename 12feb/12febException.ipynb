{
 "cells": [
  {
   "attachments": {},
   "cell_type": "markdown",
   "metadata": {},
   "source": [
    "### Ans 1\n",
    "In Python, an exception is an event that occurs during the execution of a program that disrupts the normal flow of the program's instructions. When an exception is raised, Python stops executing the program at the point where the exception occurred and looks for a \"handler\" to deal with the exception. If a handler is found, it takes appropriate action to recover from the exception and continue execution of the program. If no handler is found, the program terminates and an error message is printed.\n",
    "\n",
    "Exceptions in Python can be raised explicitly by the raise statement or they can be raised implicitly by errors in the code such as division by zero, trying to access an undefined variable, or trying to perform an unsupported operation.\n",
    "\n",
    "Syntax errors, on the other hand, are errors that occur when the Python interpreter cannot understand or interpret a program because of incorrect syntax. Syntax errors are caught by the Python interpreter before the program is executed, and they prevent the program from running at all. Common examples of syntax errors include misspelling a keyword, leaving out a colon, or using incorrect indentation.\n",
    "\n",
    "The key difference between an exception and a syntax error is that exceptions occur during the execution of a program, while syntax errors occur before the program is executed. Exceptions can be handled and recovered from, while syntax errors must be fixed before the program can run at all."
   ]
  },
  {
   "attachments": {},
   "cell_type": "markdown",
   "metadata": {},
   "source": [
    "### Ans 2\n",
    "When an exception is not handled in Python, the program terminates abruptly and an error message is printed to the console. This is because Python is unable to continue execution of the program when an unhandled exception is raised.\n",
    "\n",
    "Here is an example that illustrates what happens when an exception is not handled:\n",
    "\n",
    "```python\n",
    "def divide(x, y):\n",
    "    result = x / y\n",
    "    return result\n",
    "```\n",
    "\n",
    "numerator = 10\n",
    "denominator = 0\n",
    "result = divide(numerator, denominator)\n",
    "In this example, the divide function takes two arguments x and y and returns the result of dividing x by y. However, when denominator is set to 0, an exception is raised because division by zero is not allowed in Python. Since this exception is not handled, the program terminates abruptly with the following error message:\n",
    "\n",
    "\n",
    "```python\n",
    "Traceback (most recent call last):\n",
    "  File \"example.py\", line 7, in <module>\n",
    "    result = divide(numerator, denominator)\n",
    "  File \"example.py\", line 2, in divide\n",
    "    result = x / y\n",
    "```\n",
    "\n",
    "ZeroDivisionError: division by zero\n",
    "As you can see, the program terminated at the line where the divide function was called and an error message was printed to the console indicating the type of exception that was raised (ZeroDivisionError). If an exception handler had been included in the code to handle this exception, the program could have recovered from the error and continued executing normally."
   ]
  },
  {
   "attachments": {},
   "cell_type": "markdown",
   "metadata": {},
   "source": [
    "### Ans 3\n",
    "In Python, we can catch and handle exceptions using a try-except block. The try block contains the code that might raise an exception, and the except block contains the code that is executed if an exception is raised. Here's an example:\n",
    "\n",
    "```python\n",
    "def divide(x, y):\n",
    "    try:\n",
    "        result = x / y\n",
    "    except ZeroDivisionError:\n",
    "        print(\"Error: division by zero\")\n",
    "        result = None\n",
    "    return result\n",
    "```\n",
    "\n",
    "```python\n",
    "numerator = 10\n",
    "denominator = 0\n",
    "result = divide(numerator, denominator)\n",
    "print(result)\n",
    "```\n",
    "\n",
    "In this example, we have modified the divide function from the previous example to catch and handle the ZeroDivisionError exception that may be raised if y is set to 0. The try block contains the code that divides x by y, and the except block contains the code that is executed if an exception is raised.\n",
    "\n",
    "If a ZeroDivisionError exception is raised, the code inside the except block is executed, which prints an error message and sets the result variable to None. If no exception is raised, the code inside the try block is executed normally and the result variable is set to the result of the division.\n",
    "\n",
    "When we run this code, we get the following output:\n",
    "\n",
    "```python\n",
    "Error: division by zero\n",
    "None\n",
    "```\n",
    "As you can see, the error message is printed to the console instead of the program terminating abruptly, and the result variable is set to None instead of being undefined. This allows the program to continue executing normally even if an exception is raised."
   ]
  },
  {
   "attachments": {},
   "cell_type": "markdown",
   "metadata": {},
   "source": [
    "### Ans 4"
   ]
  },
  {
   "attachments": {},
   "cell_type": "markdown",
   "metadata": {},
   "source": [
    "try-else is a variant of try-except that allows you to specify code that should be executed if no exception is raised in the try block. Here's an example:\n",
    "\n",
    "```python\n",
    "try:\n",
    "    result = 10 / 2\n",
    "except ZeroDivisionError:\n",
    "    print(\"Error: division by zero\")\n",
    "else:\n",
    "    print(\"The result is:\", result)\n",
    "```\n",
    "In this example, we are attempting to divide 10 by 2 inside the try block. Since division by zero is not possible in this case, no exception is raised and the code inside the else block is executed instead. The output of this code would be:\n",
    "\n",
    "\n",
    "```python\n",
    "The result is: 5.0\n",
    "```\n",
    "finally is a keyword used to specify code that should be executed regardless of whether an exception is raised or not. Here's an example:\n",
    "\n",
    "```python\n",
    "try:\n",
    "    f = open(\"myfile.txt\")\n",
    "    content = f.read()\n",
    "except IOError:\n",
    "    print(\"Error: cannot open file\")\n",
    "else:\n",
    "    print(\"File contents:\", content)\n",
    "finally:\n",
    "    f.close()\n",
    "```\n",
    "In this example, we are attempting to open a file named \"myfile.txt\" inside the try block. If an IOError exception is raised because the file cannot be opened, an error message is printed. If no exception is raised, the contents of the file are printed. Finally, the file is closed regardless of whether an exception is raised or not.\n",
    "\n",
    "raise is a keyword used to raise an exception manually in Python. Here's an example:\n",
    "\n",
    "\n",
    "```python\n",
    "def divide(x, y):\n",
    "    if y == 0:\n",
    "        raise ZeroDivisionError(\"Cannot divide by zero\")\n",
    "    return x / y\n",
    "\n",
    "numerator = 10\n",
    "denominator = 0\n",
    "try:\n",
    "    result = divide(numerator, denominator)\n",
    "except ZeroDivisionError as e:\n",
    "    print(e)\n",
    "else:\n",
    "    print(\"The result is:\", result)\n",
    "```"
   ]
  },
  {
   "attachments": {},
   "cell_type": "markdown",
   "metadata": {},
   "source": [
    "### Ans 5"
   ]
  },
  {
   "attachments": {},
   "cell_type": "markdown",
   "metadata": {},
   "source": [
    "Custom exceptions are user-defined exceptions that can be raised like built-in exceptions in Python. We need custom exceptions when we want to define our own error conditions that are not covered by the built-in exceptions. This allows us to provide more specific and informative error messages for our programs.\n",
    "\n",
    "```python\n",
    "class NegativeNumberError(Exception):\n",
    "    pass\n",
    "\n",
    "def divide_by_positive(numerator, denominator):\n",
    "    if denominator <= 0:\n",
    "        raise NegativeNumberError(\"Denominator must be positive\")\n",
    "    return numerator / denominator\n",
    "\n",
    "try:\n",
    "    result = divide_by_positive(10, 0)\n",
    "except NegativeNumberError as e:\n",
    "    print(e)\n",
    "```\n",
    "In this example, we have defined a custom exception called NegativeNumberError that inherits from the base Exception class. We have also defined a function called divide_by_positive that divides two numbers, but only if the denominator is positive. If the denominator is zero or negative, we raise a NegativeNumberError exception with a specific error message.\n",
    "\n",
    "When we call divide_by_positive with a zero denominator, the try block catches the NegativeNumberError exception and prints the error message. If we call divide_by_positive with a positive denominator, the function returns the correct result without raising an exception.\n"
   ]
  },
  {
   "attachments": {},
   "cell_type": "markdown",
   "metadata": {},
   "source": [
    "### Ans 6"
   ]
  },
  {
   "attachments": {},
   "cell_type": "markdown",
   "metadata": {},
   "source": [
    "here's an example of creating and using a custom exception class to handle an exception:\n",
    "\n",
    "```python\n",
    "class TooManyValuesError(Exception):\n",
    "    def __init__(self, message):\n",
    "        self.message = message\n",
    "\n",
    "def sum_values(values):\n",
    "    if len(values) > 5:\n",
    "        raise TooManyValuesError(\"Too many values! Maximum is 5.\")\n",
    "    return sum(values)\n",
    "\n",
    "try:\n",
    "    result = sum_values([1, 2, 3, 4, 5, 6])\n",
    "except TooManyValuesError as e:\n",
    "    print(e.message)\n",
    "```\n",
    "In this example, we have defined a custom exception class called TooManyValuesError that inherits from the base Exception class. The __init__ method is used to initialize the exception with a custom error message.\n",
    "\n",
    "We have also defined a function called sum_values that calculates the sum of a list of values. If the list has more than 5 values, we raise a TooManyValuesError exception with a specific error message.\n",
    "\n",
    "When we call sum_values with a list of 6 values, the try block catches the TooManyValuesError exception and prints the custom error message \"Too many values! Maximum is 5.\" If we call sum_values with a list of 5 or fewer values, the function returns the correct result without raising an exception."
   ]
  },
  {
   "cell_type": "markdown",
   "metadata": {},
   "source": []
  }
 ],
 "metadata": {
  "language_info": {
   "name": "python"
  },
  "orig_nbformat": 4
 },
 "nbformat": 4,
 "nbformat_minor": 2
}
