{
 "cells": [
  {
   "attachments": {},
   "cell_type": "markdown",
   "metadata": {},
   "source": [
    "## Ans 1"
   ]
  },
  {
   "cell_type": "code",
   "execution_count": 99,
   "metadata": {},
   "outputs": [
    {
     "data": {
      "text/plain": [
       "'r$dzmg$gl$yvxlnv$z$wzgz$hxrvmgrhg.'"
      ]
     },
     "execution_count": 99,
     "metadata": {},
     "output_type": "execute_result"
    }
   ],
   "source": [
    "l=\"I want to become a Data Scientist.\"\n",
    "res=l.lower()\n",
    "range(1,len(res))\n",
    "str_answer=\"\"\n",
    "for i in res:\n",
    "    if ord(i) == 32:\n",
    "        str_answer+='$'\n",
    "    elif ord(i) <= 96 or ord(i) >= 123:\n",
    "        str_answer+=(i)\n",
    "    elif 96<ord(i)<=109:\n",
    "        str_answer+=(chr(96+(26-(ord(i)-97))))\n",
    "    elif ord(i) >= 97 and ord(i) <= 122: \n",
    "        str_answer+=(chr(110-(ord(i)-109)))\n",
    "str_answer\n",
    "    \n",
    "        "
   ]
  },
  {
   "attachments": {},
   "cell_type": "markdown",
   "metadata": {},
   "source": [
    "## Ans 2"
   ]
  },
  {
   "cell_type": "code",
   "execution_count": 100,
   "metadata": {},
   "outputs": [
    {
     "data": {
      "text/plain": [
       "4134711838987085478833841242112000"
      ]
     },
     "execution_count": 100,
     "metadata": {},
     "output_type": "execute_result"
    }
   ],
   "source": [
    "list1 = [1,2,3,4, [44,55,66, True], False, (34,56,78,89,34), {1,2,3,3,2,1}, {1:34, \"key2\": [55, 67, 78, 89], 4: (45,\n",
    "22, 61, 34)}, [56, 'data science'], 'Machine Learning']\n",
    "\n",
    "def product_of_numbers(lst):\n",
    "    flat_list = []\n",
    "    for item in lst: \n",
    "        if type(item) == int:\n",
    "            flat_list.append(item)\n",
    "        elif type(item) == tuple:\n",
    "            for i in item:\n",
    "                if type(i) == int:\n",
    "                    flat_list.append(i)\n",
    "        elif type(item) == list:\n",
    "            for i in item:\n",
    "                if type(i) == int:\n",
    "                    flat_list.append(i)\n",
    "        elif type(item) == set:\n",
    "            for i in item:\n",
    "                if type(i) == int:\n",
    "                    flat_list.append(i)\n",
    "        elif type(item) == dict:\n",
    "            for key, value in item.items():\n",
    "                if type(key) == int:\n",
    "                    flat_list.append(key)\n",
    "                if type(value) == int:\n",
    "                    flat_list.append(value)\n",
    "                elif type(value) == list:\n",
    "                    for i in value:\n",
    "                        if type(i) == int or type(i) == float:\n",
    "                            flat_list.append(i)\n",
    "                elif type(value) == tuple:\n",
    "                    for i in value:\n",
    "                        if type(i) == int or type(i) == float:\n",
    "                            flat_list.append(i)\n",
    "\n",
    "    product = 1\n",
    "    for num in flat_list:\n",
    "        product *= num\n",
    "\n",
    "    return product\n",
    "product_of_numbers(list1)"
   ]
  }
 ],
 "metadata": {
  "kernelspec": {
   "display_name": "Python 3",
   "language": "python",
   "name": "python3"
  },
  "language_info": {
   "codemirror_mode": {
    "name": "ipython",
    "version": 3
   },
   "file_extension": ".py",
   "mimetype": "text/x-python",
   "name": "python",
   "nbconvert_exporter": "python",
   "pygments_lexer": "ipython3",
   "version": "3.11.1"
  },
  "orig_nbformat": 4,
  "vscode": {
   "interpreter": {
    "hash": "8175448cb9053f40d8614a713ca5fe202ae27e624560e299b1229378f7f850ff"
   }
  }
 },
 "nbformat": 4,
 "nbformat_minor": 2
}
